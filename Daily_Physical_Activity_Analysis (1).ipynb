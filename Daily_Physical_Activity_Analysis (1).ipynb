{
  "nbformat": 4,
  "nbformat_minor": 0,
  "metadata": {
    "colab": {
      "provenance": []
    },
    "kernelspec": {
      "name": "python3",
      "display_name": "Python 3"
    },
    "language_info": {
      "name": "python"
    }
  },
  "cells": [
    {
      "cell_type": "markdown",
      "source": [
        "**Project Overview: Daily Physical Activity Analysis**\n",
        "\n",
        "*Goal* : Analyze the Daily Activity dataset to understand daily physical activity patterns, create a predictive model for calories burned, and derive actionable insights."
      ],
      "metadata": {
        "id": "ZvCtD50Bm1OM"
      }
    },
    {
      "cell_type": "markdown",
      "source": [
        "We are using the dataset Activity.csv from a fitness tracker app contains user-specific data recorded daily. It includes metrics such as steps taken, total distance covered, distances for various activity levels (very active, moderately active, etc.), active minutes for different intensity levels, sedentary minutes, and estimated calories burned. These metrics provide insights into users' physical activity levels and overall health behaviors."
      ],
      "metadata": {
        "id": "3rMw88Csm23U"
      }
    },
    {
      "cell_type": "markdown",
      "source": [
        "Step 1: Create a New Folder:\n",
        "\n",
        "Go to your Documents or any other location where you want to keep your project files.\n",
        "Right-click and select New > Folder.\n",
        "Name the folder something like Daily_Activity_Project.\n",
        "\n",
        "Step 2: Move the Dataset:\n",
        "\n",
        "Move the downloaded dataset file (e.g., daily_activity.csv) into the Daily_Activity_Project folder.\n",
        "\n",
        "Step 3: Import Necessary Libraries"
      ],
      "metadata": {
        "id": "AHhZ-OjeomUD"
      }
    },
    {
      "cell_type": "code",
      "execution_count": 1,
      "metadata": {
        "id": "RVTwFDdhmpN4"
      },
      "outputs": [],
      "source": [
        "import pandas as pd\n",
        "import seaborn as sns\n",
        "import matplotlib.pyplot as plt"
      ]
    },
    {
      "cell_type": "markdown",
      "source": [
        "Step 4:  Load the Dataset"
      ],
      "metadata": {
        "id": "Eni-u6wSpASk"
      }
    },
    {
      "cell_type": "code",
      "source": [
        "# Load the Daily Activity dataset\n",
        "data = pd.read_csv('/content/Daily_Activity_Project /daily_activity.csv')"
      ],
      "metadata": {
        "id": "B8d8vxd6o9eY"
      },
      "execution_count": 5,
      "outputs": []
    },
    {
      "cell_type": "markdown",
      "source": [
        "Step 5: Explore the Dataset"
      ],
      "metadata": {
        "id": "WP6_2r9GpdTC"
      }
    },
    {
      "cell_type": "code",
      "source": [
        "# Display the first 5 rows of the dataset\n",
        "print(data.head())"
      ],
      "metadata": {
        "colab": {
          "base_uri": "https://localhost:8080/"
        },
        "id": "zxftClQ0o9j6",
        "outputId": "ed108a2d-1631-42df-98b4-a981c64be105"
      },
      "execution_count": 6,
      "outputs": [
        {
          "output_type": "stream",
          "name": "stdout",
          "text": [
            "       UserID       Date  Total_Distance  Tracker_Distance  \\\n",
            "0  6117666160  4/20/2016            8.02              8.02   \n",
            "1  1644430081  4/13/2016            5.82              5.82   \n",
            "2  1927972279  4/25/2016            0.11              0.11   \n",
            "3  6117666160  4/26/2016            7.21              7.21   \n",
            "4  4388161847   5/9/2016            7.86              7.86   \n",
            "\n",
            "   Logged_Activities_Distance  Very_Active_Distance  \\\n",
            "0                         0.0                  2.03   \n",
            "1                         0.0                  2.28   \n",
            "2                         0.0                  0.00   \n",
            "3                         0.0                  0.00   \n",
            "4                         0.0                  0.34   \n",
            "\n",
            "   Moderately_Active_Distance  Light_Active_Distance  \\\n",
            "0                        0.48                   5.52   \n",
            "1                        0.90                   2.64   \n",
            "2                        0.00                   0.11   \n",
            "3                        0.34                   6.87   \n",
            "4                        0.73                   6.79   \n",
            "\n",
            "   Sedentary_Active_Distance  Very_Active_Minutes  Fairly_Active_Minutes  \\\n",
            "0                        0.0                   26                     10   \n",
            "1                        0.0                   30                     16   \n",
            "2                        0.0                    0                      0   \n",
            "3                        0.0                    0                      7   \n",
            "4                        0.0                    6                     19   \n",
            "\n",
            "   Lightly_Active_Minutes  Sedentary_Minutes  Steps  Calories_Burned  \n",
            "0                     349                587  10449             2536  \n",
            "1                     135               1259   8001             2902  \n",
            "2                      12               1303    152             2100  \n",
            "3                     352               1077   9543             2450  \n",
            "4                     258               1020  10218             3013  \n"
          ]
        }
      ]
    },
    {
      "cell_type": "markdown",
      "source": [
        "Step 6: Data Analysis Steps"
      ],
      "metadata": {
        "id": "AoAfxMLpppb7"
      }
    },
    {
      "cell_type": "code",
      "source": [
        "# Check for missing values in the dataset\n",
        "print(data.isnull().sum())\n"
      ],
      "metadata": {
        "colab": {
          "base_uri": "https://localhost:8080/"
        },
        "id": "aMQR6Czxo9sD",
        "outputId": "b4426b11-7e05-4029-9b64-1182b65b5b96"
      },
      "execution_count": 8,
      "outputs": [
        {
          "output_type": "stream",
          "name": "stdout",
          "text": [
            "UserID                        0\n",
            "Date                          0\n",
            "Total_Distance                0\n",
            "Tracker_Distance              0\n",
            "Logged_Activities_Distance    0\n",
            "Very_Active_Distance          0\n",
            "Moderately_Active_Distance    0\n",
            "Light_Active_Distance         0\n",
            "Sedentary_Active_Distance     0\n",
            "Very_Active_Minutes           0\n",
            "Fairly_Active_Minutes         0\n",
            "Lightly_Active_Minutes        0\n",
            "Sedentary_Minutes             0\n",
            "Steps                         0\n",
            "Calories_Burned               0\n",
            "dtype: int64\n"
          ]
        }
      ]
    },
    {
      "cell_type": "markdown",
      "source": [
        "There are no null values in the data set."
      ],
      "metadata": {
        "id": "3Os_L7EsqARK"
      }
    },
    {
      "cell_type": "code",
      "source": [
        "# Get summary statistics\n",
        "print(data.describe())"
      ],
      "metadata": {
        "colab": {
          "base_uri": "https://localhost:8080/"
        },
        "id": "Z94aYrkuo9u1",
        "outputId": "aaa33102-e975-4c2b-d427-eab82ad06f02"
      },
      "execution_count": 9,
      "outputs": [
        {
          "output_type": "stream",
          "name": "stdout",
          "text": [
            "             UserID  Total_Distance  Tracker_Distance  \\\n",
            "count  9.400000e+02      940.000000        940.000000   \n",
            "mean   4.855407e+09        5.489702          5.475351   \n",
            "std    2.424805e+09        3.924606          3.907276   \n",
            "min    1.503960e+09        0.000000          0.000000   \n",
            "25%    2.320127e+09        2.620000          2.620000   \n",
            "50%    4.445115e+09        5.245000          5.245000   \n",
            "75%    6.962181e+09        7.712500          7.710000   \n",
            "max    8.877689e+09       28.030001         28.030001   \n",
            "\n",
            "       Logged_Activities_Distance  Very_Active_Distance  \\\n",
            "count                  940.000000            940.000000   \n",
            "mean                     0.108171              1.502681   \n",
            "std                      0.619897              2.658941   \n",
            "min                      0.000000              0.000000   \n",
            "25%                      0.000000              0.000000   \n",
            "50%                      0.000000              0.210000   \n",
            "75%                      0.000000              2.052500   \n",
            "max                      4.942142             21.920000   \n",
            "\n",
            "       Moderately_Active_Distance  Light_Active_Distance  \\\n",
            "count                  940.000000             940.000000   \n",
            "mean                     0.567543               3.340819   \n",
            "std                      0.883580               2.040655   \n",
            "min                      0.000000               0.000000   \n",
            "25%                      0.000000               1.945000   \n",
            "50%                      0.240000               3.365000   \n",
            "75%                      0.800000               4.782500   \n",
            "max                      6.480000              10.710000   \n",
            "\n",
            "       Sedentary_Active_Distance  Very_Active_Minutes  Fairly_Active_Minutes  \\\n",
            "count                 940.000000           940.000000             940.000000   \n",
            "mean                    0.001606            21.164894              13.564894   \n",
            "std                     0.007346            32.844803              19.987404   \n",
            "min                     0.000000             0.000000               0.000000   \n",
            "25%                     0.000000             0.000000               0.000000   \n",
            "50%                     0.000000             4.000000               6.000000   \n",
            "75%                     0.000000            32.000000              19.000000   \n",
            "max                     0.110000           210.000000             143.000000   \n",
            "\n",
            "       Lightly_Active_Minutes  Sedentary_Minutes         Steps  \\\n",
            "count              940.000000         940.000000    940.000000   \n",
            "mean               192.812766         991.210638   7637.910638   \n",
            "std                109.174700         301.267437   5087.150742   \n",
            "min                  0.000000           0.000000      0.000000   \n",
            "25%                127.000000         729.750000   3789.750000   \n",
            "50%                199.000000        1057.500000   7405.500000   \n",
            "75%                264.000000        1229.500000  10727.000000   \n",
            "max                518.000000        1440.000000  36019.000000   \n",
            "\n",
            "       Calories_Burned  \n",
            "count       940.000000  \n",
            "mean       2303.609574  \n",
            "std         718.166862  \n",
            "min           0.000000  \n",
            "25%        1828.500000  \n",
            "50%        2134.000000  \n",
            "75%        2793.250000  \n",
            "max        4900.000000  \n"
          ]
        }
      ]
    },
    {
      "cell_type": "markdown",
      "source": [
        "Step 7: Visualizing the Data:\n",
        "\n",
        "1. Distribution of Steps:"
      ],
      "metadata": {
        "id": "QcEzqdNjqmfq"
      }
    },
    {
      "cell_type": "code",
      "source": [
        "# Example: Dropping rows with missing values\n",
        "data = data.dropna()  # Remove any rows with missing values"
      ],
      "metadata": {
        "id": "3DEpLfj8vlQW"
      },
      "execution_count": 26,
      "outputs": []
    },
    {
      "cell_type": "code",
      "source": [
        "# Display the columns in the DataFrame\n",
        "print(data.columns)\n"
      ],
      "metadata": {
        "colab": {
          "base_uri": "https://localhost:8080/"
        },
        "id": "Z1DSZCMxo92r",
        "outputId": "35257320-da06-48fa-db4c-9ad003ede745"
      },
      "execution_count": 15,
      "outputs": [
        {
          "output_type": "stream",
          "name": "stdout",
          "text": [
            "Index(['UserID', 'Date', 'Total_Distance', 'Tracker_Distance',\n",
            "       'Logged_Activities_Distance', 'Very_Active_Distance',\n",
            "       'Moderately_Active_Distance', 'Light_Active_Distance',\n",
            "       'Sedentary_Active_Distance', 'Very_Active_Minutes',\n",
            "       'Fairly_Active_Minutes', 'Lightly_Active_Minutes', 'Sedentary_Minutes',\n",
            "       'Steps', 'Calories_Burned'],\n",
            "      dtype='object')\n"
          ]
        }
      ]
    },
    {
      "cell_type": "code",
      "source": [
        "# Plot the distribution of daily steps\n",
        "plt.figure(figsize=(10, 6))\n",
        "sns.histplot(data['Steps'], bins=30, kde=True)\n",
        "plt.title('Distribution of Daily Steps')\n",
        "plt.xlabel('Total Steps')\n",
        "plt.ylabel('Frequency')\n",
        "plt.show()\n"
      ],
      "metadata": {
        "colab": {
          "base_uri": "https://localhost:8080/",
          "height": 564
        },
        "id": "ogI6Hw6bo95t",
        "outputId": "845900e5-42bc-4922-eacf-4d7fe8ce254c"
      },
      "execution_count": 27,
      "outputs": [
        {
          "output_type": "display_data",
          "data": {
            "text/plain": [
              "<Figure size 1000x600 with 1 Axes>"
            ],
            "image/png": "[encoded data removed]"
          },
          "metadata": {}
        }
      ]
    },
    {
      "cell_type": "markdown",
      "source": [
        "This histogram shows the distribution of daily steps taken by individuals in the dataset. The kde (Kernel Density Estimate) line adds a smooth curve to visualize the probability density of the steps.\n",
        "\n",
        "\n",
        "Observation: Most individuals tend to take fewer than 10,000 steps per day, which is generally recommended for maintaining good health. A smaller number of users are significantly more active, with step counts exceeding 15,000.\n",
        "\n",
        "Key Takeaway: Many people are not meeting the commonly suggested activity level, indicating a potential area for improvement in promoting physical activity."
      ],
      "metadata": {
        "id": "vfZdt0W_sVuu"
      }
    },
    {
      "cell_type": "markdown",
      "source": [
        "Correlation Analysis:"
      ],
      "metadata": {
        "id": "oendOkg0rgJk"
      }
    },
    {
      "cell_type": "code",
      "source": [
        "# Plot correlation heatmap after dropping non-numeric columns\n",
        "plt.figure(figsize=(12, 8))\n",
        "\n",
        "# Select only numeric columns for correlation\n",
        "numeric_data = data.select_dtypes(include=['float64', 'int64'])\n",
        "\n",
        "# Calculate the correlation matrix\n",
        "correlation_matrix = numeric_data.corr()\n",
        "\n",
        "# Plot the heatmap\n",
        "sns.heatmap(correlation_matrix, annot=True, cmap='coolwarm')\n",
        "plt.title('Correlation Heatmap')\n",
        "plt.show()\n"
      ],
      "metadata": {
        "colab": {
          "base_uri": "https://localhost:8080/",
          "height": 815
        },
        "id": "sGDLmzcfrrOy",
        "outputId": "a875c80d-f537-411e-e717-23bfd0e80658"
      },
      "execution_count": 28,
      "outputs": [
        {
          "output_type": "display_data",
          "data": {
            "text/plain": [
              "<Figure size 1200x800 with 2 Axes>"
            ],
            "image/png": "[encoded data removed]"
          },
          "metadata": {}
        }
      ]
    },
    {
      "cell_type": "markdown",
      "source": [
        "The heatmap displays the correlation coefficients between various numeric variables in the dataset. The values range from -1 to 1, indicating the strength and direction of relationships.\n",
        "\n",
        "\n",
        "Observation:\n",
        "Steps and Calories Burned: There is a strong positive correlation (near 1) between the number of steps and calories burned, suggesting that increased physical activity leads to higher caloric expenditure.\n",
        "Other variables like Very_Active_Minutes and Calories_Burned also show strong positive relationships.\n",
        "\n",
        "Key Takeaway: Understanding these correlations can help in designing fitness programs that encourage increased daily steps to enhance overall caloric burn and improve health outcomes."
      ],
      "metadata": {
        "id": "sAzvNzPEsoUY"
      }
    },
    {
      "cell_type": "markdown",
      "source": [
        "Scatter Plot of Steps vs. Calories Burned:"
      ],
      "metadata": {
        "id": "kDidkcJGrt0S"
      }
    },
    {
      "cell_type": "code",
      "source": [
        "# Scatter plot to see the relationship between steps and calories burned\n",
        "plt.figure(figsize=(10, 6))\n",
        "sns.scatterplot(x='Steps', y='Calories_Burned', data=data)\n",
        "plt.title('Scatter Plot of Steps vs. Calories Burned')\n",
        "plt.xlabel('Total Steps')\n",
        "plt.ylabel('Calories Burned')\n",
        "plt.show()"
      ],
      "metadata": {
        "colab": {
          "base_uri": "https://localhost:8080/",
          "height": 564
        },
        "id": "CdyYHRMarx7Y",
        "outputId": "1b8cffc3-c430-43f9-992c-19865137668a"
      },
      "execution_count": 29,
      "outputs": [
        {
          "output_type": "display_data",
          "data": {
            "text/plain": [
              "<Figure size 1000x600 with 1 Axes>"
            ],
            "image/png": "[encoded data removed]"
          },
          "metadata": {}
        }
      ]
    },
    {
      "cell_type": "markdown",
      "source": [
        "This scatter plot visualizes the relationship between the total steps taken and the calories burned. Each point represents an individual's daily activity data.\n",
        "\n",
        "Observation: The scatter plot indicates a positive linear relationship between steps and calories burned. As the number of steps increases, the calories burned also tend to increase.\n",
        "\n",
        "Key Takeaway: This reinforces the correlation observed in the heatmap. Encouraging more walking and activity can lead to increased calorie expenditure, which is vital for weight management and overall health."
      ],
      "metadata": {
        "id": "--6DUz2JszgY"
      }
    },
    {
      "cell_type": "markdown",
      "source": [
        "Boxplot of Activity by Day of the Week: To create a boxplot for daily activity:"
      ],
      "metadata": {
        "id": "sBNYpQecr1H8"
      }
    },
    {
      "cell_type": "code",
      "source": [
        "# Create a 'Day' column to represent the day of the week\n",
        "data['Day'] = pd.to_datetime(data['Date']).dt.day_name()  # Create a 'Day' column\n",
        "\n",
        "plt.figure(figsize=(12, 6))\n",
        "sns.boxplot(x='Day', y='Steps', data=data)\n",
        "plt.title('Daily Steps by Day of the Week')\n",
        "plt.xlabel('Day of the Week')\n",
        "plt.ylabel('Total Steps')\n",
        "plt.show()"
      ],
      "metadata": {
        "colab": {
          "base_uri": "https://localhost:8080/",
          "height": 555
        },
        "id": "K4lgaJhLr350",
        "outputId": "f2eef24e-e43b-4619-d754-b356406d9a11"
      },
      "execution_count": 30,
      "outputs": [
        {
          "output_type": "display_data",
          "data": {
            "text/plain": [
              "<Figure size 1200x600 with 1 Axes>"
            ],
            "image/png": "[encoded data removed]"
          },
          "metadata": {}
        }
      ]
    },
    {
      "cell_type": "markdown",
      "source": [
        "Description:\n",
        "This boxplot illustrates the distribution of daily steps across different days of the week, showing the median, quartiles, and potential outliers.\n",
        "\n",
        "\n",
        "Observation:\n",
        "There may be variations in activity levels depending on the day of the week, with certain days showing higher median steps (like weekends) compared to others (like Mondays).\n",
        "This could suggest that individuals are more active on weekends, possibly due to leisure activities.\n",
        "\n",
        "Key Takeaway: Understanding activity patterns by day can help tailor motivational strategies and fitness challenges to encourage more consistent physical activity throughout the week."
      ],
      "metadata": {
        "id": "EdLC1JLJtAHa"
      }
    },
    {
      "cell_type": "markdown",
      "source": [
        "Step 8: Predictive Modeling\n",
        "\n",
        "Objective: Predict calories burned based on the number of steps and active minutes.\n",
        "\n",
        "Step 9: Import Required Libraries."
      ],
      "metadata": {
        "id": "xO-OPx5Ht4nQ"
      }
    },
    {
      "cell_type": "code",
      "source": [
        "from sklearn.model_selection import train_test_split\n",
        "from sklearn.linear_model import LinearRegression\n",
        "from sklearn.metrics import mean_squared_error, r2_score"
      ],
      "metadata": {
        "id": "nx4_GHIFuAND"
      },
      "execution_count": 31,
      "outputs": []
    },
    {
      "cell_type": "markdown",
      "source": [
        "Step 10: Prepare Your Data"
      ],
      "metadata": {
        "id": "y9yhZ-jGuTQv"
      }
    },
    {
      "cell_type": "code",
      "source": [
        "# Prepare the data for modeling\n",
        "X = data[['Steps', 'Very_Active_Minutes', 'Fairly_Active_Minutes']]\n",
        "y = data['Calories_Burned']\n",
        "\n",
        "# Split the data into training and testing sets\n",
        "X_train, X_test, y_train, y_test = train_test_split(X, y, test_size=0.2, random_state=42)"
      ],
      "metadata": {
        "id": "U5YWBM5VuTZP"
      },
      "execution_count": 32,
      "outputs": []
    },
    {
      "cell_type": "markdown",
      "source": [
        "Step 11: Train the Model"
      ],
      "metadata": {
        "id": "KvJ4A9dVub59"
      }
    },
    {
      "cell_type": "code",
      "source": [
        "# Initialize and train the model\n",
        "model = LinearRegression()\n",
        "model.fit(X_train, y_train)\n"
      ],
      "metadata": {
        "colab": {
          "base_uri": "https://localhost:8080/",
          "height": 80
        },
        "id": "ep4r2fABucA-",
        "outputId": "b876c17f-6379-44f3-ee9d-90c799c71310"
      },
      "execution_count": 33,
      "outputs": [
        {
          "output_type": "execute_result",
          "data": {
            "text/plain": [
              "LinearRegression()"
            ],
            "text/html": [
              "<style>#sk-container-id-2 {\n",
              "  /* Definition of color scheme common for light and dark mode */\n",
              "  --sklearn-color-text: black;\n",
              "  --sklearn-color-line: gray;\n",
              "  /* Definition of color scheme for unfitted estimators */\n",
              "  --sklearn-color-unfitted-level-0: #fff5e6;\n",
              "  --sklearn-color-unfitted-level-1: #f6e4d2;\n",
              "  --sklearn-color-unfitted-level-2: #ffe0b3;\n",
              "  --sklearn-color-unfitted-level-3: chocolate;\n",
              "  /* Definition of color scheme for fitted estimators */\n",
              "  --sklearn-color-fitted-level-0: #f0f8ff;\n",
              "  --sklearn-color-fitted-level-1: #d4ebff;\n",
              "  --sklearn-color-fitted-level-2: #b3dbfd;\n",
              "  --sklearn-color-fitted-level-3: cornflowerblue;\n",
              "\n",
              "  /* Specific color for light theme */\n",
              "  --sklearn-color-text-on-default-background: var(--sg-text-color, var(--theme-code-foreground, var(--jp-content-font-color1, black)));\n",
              "  --sklearn-color-background: var(--sg-background-color, var(--theme-background, var(--jp-layout-color0, white)));\n",
              "  --sklearn-color-border-box: var(--sg-text-color, var(--theme-code-foreground, var(--jp-content-font-color1, black)));\n",
              "  --sklearn-color-icon: #696969;\n",
              "\n",
              "  @media (prefers-color-scheme: dark) {\n",
              "    /* Redefinition of color scheme for dark theme */\n",
              "    --sklearn-color-text-on-default-background: var(--sg-text-color, var(--theme-code-foreground, var(--jp-content-font-color1, white)));\n",
              "    --sklearn-color-background: var(--sg-background-color, var(--theme-background, var(--jp-layout-color0, #111)));\n",
              "    --sklearn-color-border-box: var(--sg-text-color, var(--theme-code-foreground, var(--jp-content-font-color1, white)));\n",
              "    --sklearn-color-icon: #878787;\n",
              "  }\n",
              "}\n",
              "\n",
              "#sk-container-id-2 {\n",
              "  color: var(--sklearn-color-text);\n",
              "}\n",
              "\n",
              "#sk-container-id-2 pre {\n",
              "  padding: 0;\n",
              "}\n",
              "\n",
              "#sk-container-id-2 input.sk-hidden--visually {\n",
              "  border: 0;\n",
              "  clip: rect(1px 1px 1px 1px);\n",
              "  clip: rect(1px, 1px, 1px, 1px);\n",
              "  height: 1px;\n",
              "  margin: -1px;\n",
              "  overflow: hidden;\n",
              "  padding: 0;\n",
              "  position: absolute;\n",
              "  width: 1px;\n",
              "}\n",
              "\n",
              "#sk-container-id-2 div.sk-dashed-wrapped {\n",
              "  border: 1px dashed var(--sklearn-color-line);\n",
              "  margin: 0 0.4em 0.5em 0.4em;\n",
              "  box-sizing: border-box;\n",
              "  padding-bottom: 0.4em;\n",
              "  background-color: var(--sklearn-color-background);\n",
              "}\n",
              "\n",
              "#sk-container-id-2 div.sk-container {\n",
              "  /* jupyter's `normalize.less` sets `[hidden] { display: none; }`\n",
              "     but bootstrap.min.css set `[hidden] { display: none !important; }`\n",
              "     so we also need the `!important` here to be able to override the\n",
              "     default hidden behavior on the sphinx rendered scikit-learn.org.\n",
              "     See: https://github.com/scikit-learn/scikit-learn/issues/21755 */\n",
              "  display: inline-block !important;\n",
              "  position: relative;\n",
              "}\n",
              "\n",
              "#sk-container-id-2 div.sk-text-repr-fallback {\n",
              "  display: none;\n",
              "}\n",
              "\n",
              "div.sk-parallel-item,\n",
              "div.sk-serial,\n",
              "div.sk-item {\n",
              "  /* draw centered vertical line to link estimators */\n",
              "  background-image: linear-gradient(var(--sklearn-color-text-on-default-background), var(--sklearn-color-text-on-default-background));\n",
              "  background-size: 2px 100%;\n",
              "  background-repeat: no-repeat;\n",
              "  background-position: center center;\n",
              "}\n",
              "\n",
              "/* Parallel-specific style estimator block */\n",
              "\n",
              "#sk-container-id-2 div.sk-parallel-item::after {\n",
              "  content: \"\";\n",
              "  width: 100%;\n",
              "  border-bottom: 2px solid var(--sklearn-color-text-on-default-background);\n",
              "  flex-grow: 1;\n",
              "}\n",
              "\n",
              "#sk-container-id-2 div.sk-parallel {\n",
              "  display: flex;\n",
              "  align-items: stretch;\n",
              "  justify-content: center;\n",
              "  background-color: var(--sklearn-color-background);\n",
              "  position: relative;\n",
              "}\n",
              "\n",
              "#sk-container-id-2 div.sk-parallel-item {\n",
              "  display: flex;\n",
              "  flex-direction: column;\n",
              "}\n",
              "\n",
              "#sk-container-id-2 div.sk-parallel-item:first-child::after {\n",
              "  align-self: flex-end;\n",
              "  width: 50%;\n",
              "}\n",
              "\n",
              "#sk-container-id-2 div.sk-parallel-item:last-child::after {\n",
              "  align-self: flex-start;\n",
              "  width: 50%;\n",
              "}\n",
              "\n",
              "#sk-container-id-2 div.sk-parallel-item:only-child::after {\n",
              "  width: 0;\n",
              "}\n",
              "\n",
              "/* Serial-specific style estimator block */\n",
              "\n",
              "#sk-container-id-2 div.sk-serial {\n",
              "  display: flex;\n",
              "  flex-direction: column;\n",
              "  align-items: center;\n",
              "  background-color: var(--sklearn-color-background);\n",
              "  padding-right: 1em;\n",
              "  padding-left: 1em;\n",
              "}\n",
              "\n",
              "\n",
              "/* Toggleable style: style used for estimator/Pipeline/ColumnTransformer box that is\n",
              "clickable and can be expanded/collapsed.\n",
              "- Pipeline and ColumnTransformer use this feature and define the default style\n",
              "- Estimators will overwrite some part of the style using the `sk-estimator` class\n",
              "*/\n",
              "\n",
              "/* Pipeline and ColumnTransformer style (default) */\n",
              "\n",
              "#sk-container-id-2 div.sk-toggleable {\n",
              "  /* Default theme specific background. It is overwritten whether we have a\n",
              "  specific estimator or a Pipeline/ColumnTransformer */\n",
              "  background-color: var(--sklearn-color-background);\n",
              "}\n",
              "\n",
              "/* Toggleable label */\n",
              "#sk-container-id-2 label.sk-toggleable__label {\n",
              "  cursor: pointer;\n",
              "  display: block;\n",
              "  width: 100%;\n",
              "  margin-bottom: 0;\n",
              "  padding: 0.5em;\n",
              "  box-sizing: border-box;\n",
              "  text-align: center;\n",
              "}\n",
              "\n",
              "#sk-container-id-2 label.sk-toggleable__label-arrow:before {\n",
              "  /* Arrow on the left of the label */\n",
              "  content: \"▸\";\n",
              "  float: left;\n",
              "  margin-right: 0.25em;\n",
              "  color: var(--sklearn-color-icon);\n",
              "}\n",
              "\n",
              "#sk-container-id-2 label.sk-toggleable__label-arrow:hover:before {\n",
              "  color: var(--sklearn-color-text);\n",
              "}\n",
              "\n",
              "/* Toggleable content - dropdown */\n",
              "\n",
              "#sk-container-id-2 div.sk-toggleable__content {\n",
              "  max-height: 0;\n",
              "  max-width: 0;\n",
              "  overflow: hidden;\n",
              "  text-align: left;\n",
              "  /* unfitted */\n",
              "  background-color: var(--sklearn-color-unfitted-level-0);\n",
              "}\n",
              "\n",
              "#sk-container-id-2 div.sk-toggleable__content.fitted {\n",
              "  /* fitted */\n",
              "  background-color: var(--sklearn-color-fitted-level-0);\n",
              "}\n",
              "\n",
              "#sk-container-id-2 div.sk-toggleable__content pre {\n",
              "  margin: 0.2em;\n",
              "  border-radius: 0.25em;\n",
              "  color: var(--sklearn-color-text);\n",
              "  /* unfitted */\n",
              "  background-color: var(--sklearn-color-unfitted-level-0);\n",
              "}\n",
              "\n",
              "#sk-container-id-2 div.sk-toggleable__content.fitted pre {\n",
              "  /* unfitted */\n",
              "  background-color: var(--sklearn-color-fitted-level-0);\n",
              "}\n",
              "\n",
              "#sk-container-id-2 input.sk-toggleable__control:checked~div.sk-toggleable__content {\n",
              "  /* Expand drop-down */\n",
              "  max-height: 200px;\n",
              "  max-width: 100%;\n",
              "  overflow: auto;\n",
              "}\n",
              "\n",
              "#sk-container-id-2 input.sk-toggleable__control:checked~label.sk-toggleable__label-arrow:before {\n",
              "  content: \"▾\";\n",
              "}\n",
              "\n",
              "/* Pipeline/ColumnTransformer-specific style */\n",
              "\n",
              "#sk-container-id-2 div.sk-label input.sk-toggleable__control:checked~label.sk-toggleable__label {\n",
              "  color: var(--sklearn-color-text);\n",
              "  background-color: var(--sklearn-color-unfitted-level-2);\n",
              "}\n",
              "\n",
              "#sk-container-id-2 div.sk-label.fitted input.sk-toggleable__control:checked~label.sk-toggleable__label {\n",
              "  background-color: var(--sklearn-color-fitted-level-2);\n",
              "}\n",
              "\n",
              "/* Estimator-specific style */\n",
              "\n",
              "/* Colorize estimator box */\n",
              "#sk-container-id-2 div.sk-estimator input.sk-toggleable__control:checked~label.sk-toggleable__label {\n",
              "  /* unfitted */\n",
              "  background-color: var(--sklearn-color-unfitted-level-2);\n",
              "}\n",
              "\n",
              "#sk-container-id-2 div.sk-estimator.fitted input.sk-toggleable__control:checked~label.sk-toggleable__label {\n",
              "  /* fitted */\n",
              "  background-color: var(--sklearn-color-fitted-level-2);\n",
              "}\n",
              "\n",
              "#sk-container-id-2 div.sk-label label.sk-toggleable__label,\n",
              "#sk-container-id-2 div.sk-label label {\n",
              "  /* The background is the default theme color */\n",
              "  color: var(--sklearn-color-text-on-default-background);\n",
              "}\n",
              "\n",
              "/* On hover, darken the color of the background */\n",
              "#sk-container-id-2 div.sk-label:hover label.sk-toggleable__label {\n",
              "  color: var(--sklearn-color-text);\n",
              "  background-color: var(--sklearn-color-unfitted-level-2);\n",
              "}\n",
              "\n",
              "/* Label box, darken color on hover, fitted */\n",
              "#sk-container-id-2 div.sk-label.fitted:hover label.sk-toggleable__label.fitted {\n",
              "  color: var(--sklearn-color-text);\n",
              "  background-color: var(--sklearn-color-fitted-level-2);\n",
              "}\n",
              "\n",
              "/* Estimator label */\n",
              "\n",
              "#sk-container-id-2 div.sk-label label {\n",
              "  font-family: monospace;\n",
              "  font-weight: bold;\n",
              "  display: inline-block;\n",
              "  line-height: 1.2em;\n",
              "}\n",
              "\n",
              "#sk-container-id-2 div.sk-label-container {\n",
              "  text-align: center;\n",
              "}\n",
              "\n",
              "/* Estimator-specific */\n",
              "#sk-container-id-2 div.sk-estimator {\n",
              "  font-family: monospace;\n",
              "  border: 1px dotted var(--sklearn-color-border-box);\n",
              "  border-radius: 0.25em;\n",
              "  box-sizing: border-box;\n",
              "  margin-bottom: 0.5em;\n",
              "  /* unfitted */\n",
              "  background-color: var(--sklearn-color-unfitted-level-0);\n",
              "}\n",
              "\n",
              "#sk-container-id-2 div.sk-estimator.fitted {\n",
              "  /* fitted */\n",
              "  background-color: var(--sklearn-color-fitted-level-0);\n",
              "}\n",
              "\n",
              "/* on hover */\n",
              "#sk-container-id-2 div.sk-estimator:hover {\n",
              "  /* unfitted */\n",
              "  background-color: var(--sklearn-color-unfitted-level-2);\n",
              "}\n",
              "\n",
              "#sk-container-id-2 div.sk-estimator.fitted:hover {\n",
              "  /* fitted */\n",
              "  background-color: var(--sklearn-color-fitted-level-2);\n",
              "}\n",
              "\n",
              "/* Specification for estimator info (e.g. \"i\" and \"?\") */\n",
              "\n",
              "/* Common style for \"i\" and \"?\" */\n",
              "\n",
              ".sk-estimator-doc-link,\n",
              "a:link.sk-estimator-doc-link,\n",
              "a:visited.sk-estimator-doc-link {\n",
              "  float: right;\n",
              "  font-size: smaller;\n",
              "  line-height: 1em;\n",
              "  font-family: monospace;\n",
              "  background-color: var(--sklearn-color-background);\n",
              "  border-radius: 1em;\n",
              "  height: 1em;\n",
              "  width: 1em;\n",
              "  text-decoration: none !important;\n",
              "  margin-left: 1ex;\n",
              "  /* unfitted */\n",
              "  border: var(--sklearn-color-unfitted-level-1) 1pt solid;\n",
              "  color: var(--sklearn-color-unfitted-level-1);\n",
              "}\n",
              "\n",
              ".sk-estimator-doc-link.fitted,\n",
              "a:link.sk-estimator-doc-link.fitted,\n",
              "a:visited.sk-estimator-doc-link.fitted {\n",
              "  /* fitted */\n",
              "  border: var(--sklearn-color-fitted-level-1) 1pt solid;\n",
              "  color: var(--sklearn-color-fitted-level-1);\n",
              "}\n",
              "\n",
              "/* On hover */\n",
              "div.sk-estimator:hover .sk-estimator-doc-link:hover,\n",
              ".sk-estimator-doc-link:hover,\n",
              "div.sk-label-container:hover .sk-estimator-doc-link:hover,\n",
              ".sk-estimator-doc-link:hover {\n",
              "  /* unfitted */\n",
              "  background-color: var(--sklearn-color-unfitted-level-3);\n",
              "  color: var(--sklearn-color-background);\n",
              "  text-decoration: none;\n",
              "}\n",
              "\n",
              "div.sk-estimator.fitted:hover .sk-estimator-doc-link.fitted:hover,\n",
              ".sk-estimator-doc-link.fitted:hover,\n",
              "div.sk-label-container:hover .sk-estimator-doc-link.fitted:hover,\n",
              ".sk-estimator-doc-link.fitted:hover {\n",
              "  /* fitted */\n",
              "  background-color: var(--sklearn-color-fitted-level-3);\n",
              "  color: var(--sklearn-color-background);\n",
              "  text-decoration: none;\n",
              "}\n",
              "\n",
              "/* Span, style for the box shown on hovering the info icon */\n",
              ".sk-estimator-doc-link span {\n",
              "  display: none;\n",
              "  z-index: 9999;\n",
              "  position: relative;\n",
              "  font-weight: normal;\n",
              "  right: .2ex;\n",
              "  padding: .5ex;\n",
              "  margin: .5ex;\n",
              "  width: min-content;\n",
              "  min-width: 20ex;\n",
              "  max-width: 50ex;\n",
              "  color: var(--sklearn-color-text);\n",
              "  box-shadow: 2pt 2pt 4pt #999;\n",
              "  /* unfitted */\n",
              "  background: var(--sklearn-color-unfitted-level-0);\n",
              "  border: .5pt solid var(--sklearn-color-unfitted-level-3);\n",
              "}\n",
              "\n",
              ".sk-estimator-doc-link.fitted span {\n",
              "  /* fitted */\n",
              "  background: var(--sklearn-color-fitted-level-0);\n",
              "  border: var(--sklearn-color-fitted-level-3);\n",
              "}\n",
              "\n",
              ".sk-estimator-doc-link:hover span {\n",
              "  display: block;\n",
              "}\n",
              "\n",
              "/* \"?\"-specific style due to the `<a>` HTML tag */\n",
              "\n",
              "#sk-container-id-2 a.estimator_doc_link {\n",
              "  float: right;\n",
              "  font-size: 1rem;\n",
              "  line-height: 1em;\n",
              "  font-family: monospace;\n",
              "  background-color: var(--sklearn-color-background);\n",
              "  border-radius: 1rem;\n",
              "  height: 1rem;\n",
              "  width: 1rem;\n",
              "  text-decoration: none;\n",
              "  /* unfitted */\n",
              "  color: var(--sklearn-color-unfitted-level-1);\n",
              "  border: var(--sklearn-color-unfitted-level-1) 1pt solid;\n",
              "}\n",
              "\n",
              "#sk-container-id-2 a.estimator_doc_link.fitted {\n",
              "  /* fitted */\n",
              "  border: var(--sklearn-color-fitted-level-1) 1pt solid;\n",
              "  color: var(--sklearn-color-fitted-level-1);\n",
              "}\n",
              "\n",
              "/* On hover */\n",
              "#sk-container-id-2 a.estimator_doc_link:hover {\n",
              "  /* unfitted */\n",
              "  background-color: var(--sklearn-color-unfitted-level-3);\n",
              "  color: var(--sklearn-color-background);\n",
              "  text-decoration: none;\n",
              "}\n",
              "\n",
              "#sk-container-id-2 a.estimator_doc_link.fitted:hover {\n",
              "  /* fitted */\n",
              "  background-color: var(--sklearn-color-fitted-level-3);\n",
              "}\n",
              "</style><div id=\"sk-container-id-2\" class=\"sk-top-container\"><div class=\"sk-text-repr-fallback\"><pre>LinearRegression()</pre><b>In a Jupyter environment, please rerun this cell to show the HTML representation or trust the notebook. <br />On GitHub, the HTML representation is unable to render, please try loading this page with nbviewer.org.</b></div><div class=\"sk-container\" hidden><div class=\"sk-item\"><div class=\"sk-estimator fitted sk-toggleable\"><input class=\"sk-toggleable__control sk-hidden--visually\" id=\"sk-estimator-id-2\" type=\"checkbox\" checked><label for=\"sk-estimator-id-2\" class=\"sk-toggleable__label fitted sk-toggleable__label-arrow fitted\">&nbsp;&nbsp;LinearRegression<a class=\"sk-estimator-doc-link fitted\" rel=\"noreferrer\" target=\"_blank\" href=\"https://scikit-learn.org/1.5/modules/generated/sklearn.linear_model.LinearRegression.html\">?<span>Documentation for LinearRegression</span></a><span class=\"sk-estimator-doc-link fitted\">i<span>Fitted</span></span></label><div class=\"sk-toggleable__content fitted\"><pre>LinearRegression()</pre></div> </div></div></div></div>"
            ]
          },
          "metadata": {},
          "execution_count": 33
        }
      ]
    },
    {
      "cell_type": "markdown",
      "source": [
        "Step 12: Make Predictions"
      ],
      "metadata": {
        "id": "H8XVH01Vuj6Z"
      }
    },
    {
      "cell_type": "code",
      "source": [
        "# Make predictions\n",
        "y_pred = model.predict(X_test)"
      ],
      "metadata": {
        "id": "asBr1TniuiZK"
      },
      "execution_count": 34,
      "outputs": []
    },
    {
      "cell_type": "markdown",
      "source": [
        "Step 13: Evaluate the Model"
      ],
      "metadata": {
        "id": "GhYhgke3urQ3"
      }
    },
    {
      "cell_type": "code",
      "source": [
        "# Evaluate the model\n",
        "print(\"Mean Squared Error:\", mean_squared_error(y_test, y_pred))\n",
        "print(\"R^2 Score:\", r2_score(y_test, y_pred))"
      ],
      "metadata": {
        "colab": {
          "base_uri": "https://localhost:8080/"
        },
        "id": "xaOO-Qgjuqm9",
        "outputId": "5f2fb4bd-9346-42fd-992a-5eb634d77664"
      },
      "execution_count": 35,
      "outputs": [
        {
          "output_type": "stream",
          "name": "stdout",
          "text": [
            "Mean Squared Error: 283186.88874059543\n",
            "R^2 Score: 0.44061323027289334\n"
          ]
        }
      ]
    },
    {
      "cell_type": "markdown",
      "source": [
        "**Understanding the Results**\n",
        "\n",
        "Mean Squared Error (MSE):\n",
        "\n",
        "MSE of 283186.89 suggests that, on average, the squared difference between the predicted and actual calorie values is about 283,186.\n",
        "A lower MSE indicates better model performance, so while this number is not inherently \"bad,\" it does suggest that there could be substantial error in your predictions.\n",
        "R² Score:\n",
        "\n",
        "An R² Score of 0.44 means that approximately 44% of the variance in calories burned can be explained by the model.\n",
        "This suggests that the model has moderate predictive power, but there is still a significant portion of the variance (56%) that is not being explained by the model. Ideally, you would want this score to be closer to 1 (100%)."
      ],
      "metadata": {
        "id": "4MGZaBh5vIEI"
      }
    },
    {
      "cell_type": "markdown",
      "source": [
        "**Strategies for Optimization**\n",
        "\n",
        "Here are several strategies you can consider to improve your model's performance:\n",
        "\n",
        "Data Cleaning:\n",
        "\n",
        "Check for Outliers: Analyze your dataset for outliers that could be skewing the results and consider removing or treating them.\n",
        "Handle Missing Values: If there are any missing values, decide how to handle them (e.g., imputation, removal).\n",
        "Model Selection:\n",
        "\n",
        "Try Different Algorithms:\n",
        "\n",
        "Experiment with different algorithms, such as Decision Trees, Random Forest, or Gradient Boosting. These models can capture non-linear relationships better than linear regression.\n",
        "Use Cross-Validation: Implement cross-validation to get a better estimate of your model's performance on unseen data.\n",
        "Hyperparameter Tuning:\n",
        "\n",
        "If you use more complex models, tune the hyperparameters using techniques like Grid Search or Random Search to find the best combination of parameters.\n",
        "\n",
        "\n",
        "Regularization:\n",
        "\n",
        "Consider applying techniques like Lasso or Ridge regression if you have many features. This can help prevent overfitting and improve model performance.\n",
        "\n",
        "\n",
        "Feature Scaling:\n",
        "\n",
        "If you add new features, ensure they are scaled properly. Algorithms like Support Vector Machines or K-means clustering are sensitive to the scale of the input data."
      ],
      "metadata": {
        "id": "r3NaBvEAvQtn"
      }
    },
    {
      "cell_type": "markdown",
      "source": [
        "Step 14: Predictive Modeling with Random Forest"
      ],
      "metadata": {
        "id": "iHXKkqrjv8In"
      }
    },
    {
      "cell_type": "markdown",
      "source": [
        "Prepare the data for modeling"
      ],
      "metadata": {
        "id": "fyzbL_5IwEi-"
      }
    },
    {
      "cell_type": "code",
      "source": [
        "# Prepare the data for modeling\n",
        "X = data[['Steps', 'Very_Active_Minutes', 'Fairly_Active_Minutes', 'Total_Distance']]  # Add more features as needed\n",
        "y = data['Calories_Burned']\n",
        "\n",
        "# Split the data into training and testing sets\n",
        "X_train, X_test, y_train, y_test = train_test_split(X, y, test_size=0.2, random_state=42)"
      ],
      "metadata": {
        "id": "lz1iwtuTuw1d"
      },
      "execution_count": 36,
      "outputs": []
    },
    {
      "cell_type": "markdown",
      "source": [
        "Initialize and Train the Random Forest Model:"
      ],
      "metadata": {
        "id": "JhlKbvJ3wIFM"
      }
    },
    {
      "cell_type": "code",
      "source": [
        "from sklearn.ensemble import RandomForestRegressor\n",
        "# Initialize the Random Forest Regressor\n",
        "rf_model = RandomForestRegressor(n_estimators=100, random_state=42)\n",
        "\n",
        "# Train the model\n",
        "rf_model.fit(X_train, y_train)"
      ],
      "metadata": {
        "colab": {
          "base_uri": "https://localhost:8080/",
          "height": 80
        },
        "id": "cFdGXVqcwAIk",
        "outputId": "d8bc89fe-17ba-47e0-ab39-93699fb82699"
      },
      "execution_count": 38,
      "outputs": [
        {
          "output_type": "execute_result",
          "data": {
            "text/plain": [
              "RandomForestRegressor(random_state=42)"
            ],
            "text/html": [
              "<style>#sk-container-id-3 {\n",
              "  /* Definition of color scheme common for light and dark mode */\n",
              "  --sklearn-color-text: black;\n",
              "  --sklearn-color-line: gray;\n",
              "  /* Definition of color scheme for unfitted estimators */\n",
              "  --sklearn-color-unfitted-level-0: #fff5e6;\n",
              "  --sklearn-color-unfitted-level-1: #f6e4d2;\n",
              "  --sklearn-color-unfitted-level-2: #ffe0b3;\n",
              "  --sklearn-color-unfitted-level-3: chocolate;\n",
              "  /* Definition of color scheme for fitted estimators */\n",
              "  --sklearn-color-fitted-level-0: #f0f8ff;\n",
              "  --sklearn-color-fitted-level-1: #d4ebff;\n",
              "  --sklearn-color-fitted-level-2: #b3dbfd;\n",
              "  --sklearn-color-fitted-level-3: cornflowerblue;\n",
              "\n",
              "  /* Specific color for light theme */\n",
              "  --sklearn-color-text-on-default-background: var(--sg-text-color, var(--theme-code-foreground, var(--jp-content-font-color1, black)));\n",
              "  --sklearn-color-background: var(--sg-background-color, var(--theme-background, var(--jp-layout-color0, white)));\n",
              "  --sklearn-color-border-box: var(--sg-text-color, var(--theme-code-foreground, var(--jp-content-font-color1, black)));\n",
              "  --sklearn-color-icon: #696969;\n",
              "\n",
              "  @media (prefers-color-scheme: dark) {\n",
              "    /* Redefinition of color scheme for dark theme */\n",
              "    --sklearn-color-text-on-default-background: var(--sg-text-color, var(--theme-code-foreground, var(--jp-content-font-color1, white)));\n",
              "    --sklearn-color-background: var(--sg-background-color, var(--theme-background, var(--jp-layout-color0, #111)));\n",
              "    --sklearn-color-border-box: var(--sg-text-color, var(--theme-code-foreground, var(--jp-content-font-color1, white)));\n",
              "    --sklearn-color-icon: #878787;\n",
              "  }\n",
              "}\n",
              "\n",
              "#sk-container-id-3 {\n",
              "  color: var(--sklearn-color-text);\n",
              "}\n",
              "\n",
              "#sk-container-id-3 pre {\n",
              "  padding: 0;\n",
              "}\n",
              "\n",
              "#sk-container-id-3 input.sk-hidden--visually {\n",
              "  border: 0;\n",
              "  clip: rect(1px 1px 1px 1px);\n",
              "  clip: rect(1px, 1px, 1px, 1px);\n",
              "  height: 1px;\n",
              "  margin: -1px;\n",
              "  overflow: hidden;\n",
              "  padding: 0;\n",
              "  position: absolute;\n",
              "  width: 1px;\n",
              "}\n",
              "\n",
              "#sk-container-id-3 div.sk-dashed-wrapped {\n",
              "  border: 1px dashed var(--sklearn-color-line);\n",
              "  margin: 0 0.4em 0.5em 0.4em;\n",
              "  box-sizing: border-box;\n",
              "  padding-bottom: 0.4em;\n",
              "  background-color: var(--sklearn-color-background);\n",
              "}\n",
              "\n",
              "#sk-container-id-3 div.sk-container {\n",
              "  /* jupyter's `normalize.less` sets `[hidden] { display: none; }`\n",
              "     but bootstrap.min.css set `[hidden] { display: none !important; }`\n",
              "     so we also need the `!important` here to be able to override the\n",
              "     default hidden behavior on the sphinx rendered scikit-learn.org.\n",
              "     See: https://github.com/scikit-learn/scikit-learn/issues/21755 */\n",
              "  display: inline-block !important;\n",
              "  position: relative;\n",
              "}\n",
              "\n",
              "#sk-container-id-3 div.sk-text-repr-fallback {\n",
              "  display: none;\n",
              "}\n",
              "\n",
              "div.sk-parallel-item,\n",
              "div.sk-serial,\n",
              "div.sk-item {\n",
              "  /* draw centered vertical line to link estimators */\n",
              "  background-image: linear-gradient(var(--sklearn-color-text-on-default-background), var(--sklearn-color-text-on-default-background));\n",
              "  background-size: 2px 100%;\n",
              "  background-repeat: no-repeat;\n",
              "  background-position: center center;\n",
              "}\n",
              "\n",
              "/* Parallel-specific style estimator block */\n",
              "\n",
              "#sk-container-id-3 div.sk-parallel-item::after {\n",
              "  content: \"\";\n",
              "  width: 100%;\n",
              "  border-bottom: 2px solid var(--sklearn-color-text-on-default-background);\n",
              "  flex-grow: 1;\n",
              "}\n",
              "\n",
              "#sk-container-id-3 div.sk-parallel {\n",
              "  display: flex;\n",
              "  align-items: stretch;\n",
              "  justify-content: center;\n",
              "  background-color: var(--sklearn-color-background);\n",
              "  position: relative;\n",
              "}\n",
              "\n",
              "#sk-container-id-3 div.sk-parallel-item {\n",
              "  display: flex;\n",
              "  flex-direction: column;\n",
              "}\n",
              "\n",
              "#sk-container-id-3 div.sk-parallel-item:first-child::after {\n",
              "  align-self: flex-end;\n",
              "  width: 50%;\n",
              "}\n",
              "\n",
              "#sk-container-id-3 div.sk-parallel-item:last-child::after {\n",
              "  align-self: flex-start;\n",
              "  width: 50%;\n",
              "}\n",
              "\n",
              "#sk-container-id-3 div.sk-parallel-item:only-child::after {\n",
              "  width: 0;\n",
              "}\n",
              "\n",
              "/* Serial-specific style estimator block */\n",
              "\n",
              "#sk-container-id-3 div.sk-serial {\n",
              "  display: flex;\n",
              "  flex-direction: column;\n",
              "  align-items: center;\n",
              "  background-color: var(--sklearn-color-background);\n",
              "  padding-right: 1em;\n",
              "  padding-left: 1em;\n",
              "}\n",
              "\n",
              "\n",
              "/* Toggleable style: style used for estimator/Pipeline/ColumnTransformer box that is\n",
              "clickable and can be expanded/collapsed.\n",
              "- Pipeline and ColumnTransformer use this feature and define the default style\n",
              "- Estimators will overwrite some part of the style using the `sk-estimator` class\n",
              "*/\n",
              "\n",
              "/* Pipeline and ColumnTransformer style (default) */\n",
              "\n",
              "#sk-container-id-3 div.sk-toggleable {\n",
              "  /* Default theme specific background. It is overwritten whether we have a\n",
              "  specific estimator or a Pipeline/ColumnTransformer */\n",
              "  background-color: var(--sklearn-color-background);\n",
              "}\n",
              "\n",
              "/* Toggleable label */\n",
              "#sk-container-id-3 label.sk-toggleable__label {\n",
              "  cursor: pointer;\n",
              "  display: block;\n",
              "  width: 100%;\n",
              "  margin-bottom: 0;\n",
              "  padding: 0.5em;\n",
              "  box-sizing: border-box;\n",
              "  text-align: center;\n",
              "}\n",
              "\n",
              "#sk-container-id-3 label.sk-toggleable__label-arrow:before {\n",
              "  /* Arrow on the left of the label */\n",
              "  content: \"▸\";\n",
              "  float: left;\n",
              "  margin-right: 0.25em;\n",
              "  color: var(--sklearn-color-icon);\n",
              "}\n",
              "\n",
              "#sk-container-id-3 label.sk-toggleable__label-arrow:hover:before {\n",
              "  color: var(--sklearn-color-text);\n",
              "}\n",
              "\n",
              "/* Toggleable content - dropdown */\n",
              "\n",
              "#sk-container-id-3 div.sk-toggleable__content {\n",
              "  max-height: 0;\n",
              "  max-width: 0;\n",
              "  overflow: hidden;\n",
              "  text-align: left;\n",
              "  /* unfitted */\n",
              "  background-color: var(--sklearn-color-unfitted-level-0);\n",
              "}\n",
              "\n",
              "#sk-container-id-3 div.sk-toggleable__content.fitted {\n",
              "  /* fitted */\n",
              "  background-color: var(--sklearn-color-fitted-level-0);\n",
              "}\n",
              "\n",
              "#sk-container-id-3 div.sk-toggleable__content pre {\n",
              "  margin: 0.2em;\n",
              "  border-radius: 0.25em;\n",
              "  color: var(--sklearn-color-text);\n",
              "  /* unfitted */\n",
              "  background-color: var(--sklearn-color-unfitted-level-0);\n",
              "}\n",
              "\n",
              "#sk-container-id-3 div.sk-toggleable__content.fitted pre {\n",
              "  /* unfitted */\n",
              "  background-color: var(--sklearn-color-fitted-level-0);\n",
              "}\n",
              "\n",
              "#sk-container-id-3 input.sk-toggleable__control:checked~div.sk-toggleable__content {\n",
              "  /* Expand drop-down */\n",
              "  max-height: 200px;\n",
              "  max-width: 100%;\n",
              "  overflow: auto;\n",
              "}\n",
              "\n",
              "#sk-container-id-3 input.sk-toggleable__control:checked~label.sk-toggleable__label-arrow:before {\n",
              "  content: \"▾\";\n",
              "}\n",
              "\n",
              "/* Pipeline/ColumnTransformer-specific style */\n",
              "\n",
              "#sk-container-id-3 div.sk-label input.sk-toggleable__control:checked~label.sk-toggleable__label {\n",
              "  color: var(--sklearn-color-text);\n",
              "  background-color: var(--sklearn-color-unfitted-level-2);\n",
              "}\n",
              "\n",
              "#sk-container-id-3 div.sk-label.fitted input.sk-toggleable__control:checked~label.sk-toggleable__label {\n",
              "  background-color: var(--sklearn-color-fitted-level-2);\n",
              "}\n",
              "\n",
              "/* Estimator-specific style */\n",
              "\n",
              "/* Colorize estimator box */\n",
              "#sk-container-id-3 div.sk-estimator input.sk-toggleable__control:checked~label.sk-toggleable__label {\n",
              "  /* unfitted */\n",
              "  background-color: var(--sklearn-color-unfitted-level-2);\n",
              "}\n",
              "\n",
              "#sk-container-id-3 div.sk-estimator.fitted input.sk-toggleable__control:checked~label.sk-toggleable__label {\n",
              "  /* fitted */\n",
              "  background-color: var(--sklearn-color-fitted-level-2);\n",
              "}\n",
              "\n",
              "#sk-container-id-3 div.sk-label label.sk-toggleable__label,\n",
              "#sk-container-id-3 div.sk-label label {\n",
              "  /* The background is the default theme color */\n",
              "  color: var(--sklearn-color-text-on-default-background);\n",
              "}\n",
              "\n",
              "/* On hover, darken the color of the background */\n",
              "#sk-container-id-3 div.sk-label:hover label.sk-toggleable__label {\n",
              "  color: var(--sklearn-color-text);\n",
              "  background-color: var(--sklearn-color-unfitted-level-2);\n",
              "}\n",
              "\n",
              "/* Label box, darken color on hover, fitted */\n",
              "#sk-container-id-3 div.sk-label.fitted:hover label.sk-toggleable__label.fitted {\n",
              "  color: var(--sklearn-color-text);\n",
              "  background-color: var(--sklearn-color-fitted-level-2);\n",
              "}\n",
              "\n",
              "/* Estimator label */\n",
              "\n",
              "#sk-container-id-3 div.sk-label label {\n",
              "  font-family: monospace;\n",
              "  font-weight: bold;\n",
              "  display: inline-block;\n",
              "  line-height: 1.2em;\n",
              "}\n",
              "\n",
              "#sk-container-id-3 div.sk-label-container {\n",
              "  text-align: center;\n",
              "}\n",
              "\n",
              "/* Estimator-specific */\n",
              "#sk-container-id-3 div.sk-estimator {\n",
              "  font-family: monospace;\n",
              "  border: 1px dotted var(--sklearn-color-border-box);\n",
              "  border-radius: 0.25em;\n",
              "  box-sizing: border-box;\n",
              "  margin-bottom: 0.5em;\n",
              "  /* unfitted */\n",
              "  background-color: var(--sklearn-color-unfitted-level-0);\n",
              "}\n",
              "\n",
              "#sk-container-id-3 div.sk-estimator.fitted {\n",
              "  /* fitted */\n",
              "  background-color: var(--sklearn-color-fitted-level-0);\n",
              "}\n",
              "\n",
              "/* on hover */\n",
              "#sk-container-id-3 div.sk-estimator:hover {\n",
              "  /* unfitted */\n",
              "  background-color: var(--sklearn-color-unfitted-level-2);\n",
              "}\n",
              "\n",
              "#sk-container-id-3 div.sk-estimator.fitted:hover {\n",
              "  /* fitted */\n",
              "  background-color: var(--sklearn-color-fitted-level-2);\n",
              "}\n",
              "\n",
              "/* Specification for estimator info (e.g. \"i\" and \"?\") */\n",
              "\n",
              "/* Common style for \"i\" and \"?\" */\n",
              "\n",
              ".sk-estimator-doc-link,\n",
              "a:link.sk-estimator-doc-link,\n",
              "a:visited.sk-estimator-doc-link {\n",
              "  float: right;\n",
              "  font-size: smaller;\n",
              "  line-height: 1em;\n",
              "  font-family: monospace;\n",
              "  background-color: var(--sklearn-color-background);\n",
              "  border-radius: 1em;\n",
              "  height: 1em;\n",
              "  width: 1em;\n",
              "  text-decoration: none !important;\n",
              "  margin-left: 1ex;\n",
              "  /* unfitted */\n",
              "  border: var(--sklearn-color-unfitted-level-1) 1pt solid;\n",
              "  color: var(--sklearn-color-unfitted-level-1);\n",
              "}\n",
              "\n",
              ".sk-estimator-doc-link.fitted,\n",
              "a:link.sk-estimator-doc-link.fitted,\n",
              "a:visited.sk-estimator-doc-link.fitted {\n",
              "  /* fitted */\n",
              "  border: var(--sklearn-color-fitted-level-1) 1pt solid;\n",
              "  color: var(--sklearn-color-fitted-level-1);\n",
              "}\n",
              "\n",
              "/* On hover */\n",
              "div.sk-estimator:hover .sk-estimator-doc-link:hover,\n",
              ".sk-estimator-doc-link:hover,\n",
              "div.sk-label-container:hover .sk-estimator-doc-link:hover,\n",
              ".sk-estimator-doc-link:hover {\n",
              "  /* unfitted */\n",
              "  background-color: var(--sklearn-color-unfitted-level-3);\n",
              "  color: var(--sklearn-color-background);\n",
              "  text-decoration: none;\n",
              "}\n",
              "\n",
              "div.sk-estimator.fitted:hover .sk-estimator-doc-link.fitted:hover,\n",
              ".sk-estimator-doc-link.fitted:hover,\n",
              "div.sk-label-container:hover .sk-estimator-doc-link.fitted:hover,\n",
              ".sk-estimator-doc-link.fitted:hover {\n",
              "  /* fitted */\n",
              "  background-color: var(--sklearn-color-fitted-level-3);\n",
              "  color: var(--sklearn-color-background);\n",
              "  text-decoration: none;\n",
              "}\n",
              "\n",
              "/* Span, style for the box shown on hovering the info icon */\n",
              ".sk-estimator-doc-link span {\n",
              "  display: none;\n",
              "  z-index: 9999;\n",
              "  position: relative;\n",
              "  font-weight: normal;\n",
              "  right: .2ex;\n",
              "  padding: .5ex;\n",
              "  margin: .5ex;\n",
              "  width: min-content;\n",
              "  min-width: 20ex;\n",
              "  max-width: 50ex;\n",
              "  color: var(--sklearn-color-text);\n",
              "  box-shadow: 2pt 2pt 4pt #999;\n",
              "  /* unfitted */\n",
              "  background: var(--sklearn-color-unfitted-level-0);\n",
              "  border: .5pt solid var(--sklearn-color-unfitted-level-3);\n",
              "}\n",
              "\n",
              ".sk-estimator-doc-link.fitted span {\n",
              "  /* fitted */\n",
              "  background: var(--sklearn-color-fitted-level-0);\n",
              "  border: var(--sklearn-color-fitted-level-3);\n",
              "}\n",
              "\n",
              ".sk-estimator-doc-link:hover span {\n",
              "  display: block;\n",
              "}\n",
              "\n",
              "/* \"?\"-specific style due to the `<a>` HTML tag */\n",
              "\n",
              "#sk-container-id-3 a.estimator_doc_link {\n",
              "  float: right;\n",
              "  font-size: 1rem;\n",
              "  line-height: 1em;\n",
              "  font-family: monospace;\n",
              "  background-color: var(--sklearn-color-background);\n",
              "  border-radius: 1rem;\n",
              "  height: 1rem;\n",
              "  width: 1rem;\n",
              "  text-decoration: none;\n",
              "  /* unfitted */\n",
              "  color: var(--sklearn-color-unfitted-level-1);\n",
              "  border: var(--sklearn-color-unfitted-level-1) 1pt solid;\n",
              "}\n",
              "\n",
              "#sk-container-id-3 a.estimator_doc_link.fitted {\n",
              "  /* fitted */\n",
              "  border: var(--sklearn-color-fitted-level-1) 1pt solid;\n",
              "  color: var(--sklearn-color-fitted-level-1);\n",
              "}\n",
              "\n",
              "/* On hover */\n",
              "#sk-container-id-3 a.estimator_doc_link:hover {\n",
              "  /* unfitted */\n",
              "  background-color: var(--sklearn-color-unfitted-level-3);\n",
              "  color: var(--sklearn-color-background);\n",
              "  text-decoration: none;\n",
              "}\n",
              "\n",
              "#sk-container-id-3 a.estimator_doc_link.fitted:hover {\n",
              "  /* fitted */\n",
              "  background-color: var(--sklearn-color-fitted-level-3);\n",
              "}\n",
              "</style><div id=\"sk-container-id-3\" class=\"sk-top-container\"><div class=\"sk-text-repr-fallback\"><pre>RandomForestRegressor(random_state=42)</pre><b>In a Jupyter environment, please rerun this cell to show the HTML representation or trust the notebook. <br />On GitHub, the HTML representation is unable to render, please try loading this page with nbviewer.org.</b></div><div class=\"sk-container\" hidden><div class=\"sk-item\"><div class=\"sk-estimator fitted sk-toggleable\"><input class=\"sk-toggleable__control sk-hidden--visually\" id=\"sk-estimator-id-3\" type=\"checkbox\" checked><label for=\"sk-estimator-id-3\" class=\"sk-toggleable__label fitted sk-toggleable__label-arrow fitted\">&nbsp;&nbsp;RandomForestRegressor<a class=\"sk-estimator-doc-link fitted\" rel=\"noreferrer\" target=\"_blank\" href=\"https://scikit-learn.org/1.5/modules/generated/sklearn.ensemble.RandomForestRegressor.html\">?<span>Documentation for RandomForestRegressor</span></a><span class=\"sk-estimator-doc-link fitted\">i<span>Fitted</span></span></label><div class=\"sk-toggleable__content fitted\"><pre>RandomForestRegressor(random_state=42)</pre></div> </div></div></div></div>"
            ]
          },
          "metadata": {},
          "execution_count": 38
        }
      ]
    },
    {
      "cell_type": "markdown",
      "source": [
        "Make Predictions:"
      ],
      "metadata": {
        "id": "7cg8CfxiwUH_"
      }
    },
    {
      "cell_type": "code",
      "source": [
        "# Make predictions\n",
        "y_pred_rf = rf_model.predict(X_test)"
      ],
      "metadata": {
        "id": "rw0r-7OuwLuU"
      },
      "execution_count": 39,
      "outputs": []
    },
    {
      "cell_type": "markdown",
      "source": [
        "Evaluate the Model:"
      ],
      "metadata": {
        "id": "WynUOFHTwbUo"
      }
    },
    {
      "cell_type": "code",
      "source": [
        "# Evaluate the model\n",
        "print(\"Mean Squared Error (Random Forest):\", mean_squared_error(y_test, y_pred_rf))\n",
        "print(\"R^2 Score (Random Forest):\", r2_score(y_test, y_pred_rf))"
      ],
      "metadata": {
        "colab": {
          "base_uri": "https://localhost:8080/"
        },
        "id": "QEYq3lfPwdqr",
        "outputId": "98eb2ed3-3223-4ff5-e1af-df9512968e9a"
      },
      "execution_count": 40,
      "outputs": [
        {
          "output_type": "stream",
          "name": "stdout",
          "text": [
            "Mean Squared Error (Random Forest): 174289.59446170606\n",
            "R^2 Score (Random Forest): 0.655721019865829\n"
          ]
        }
      ]
    },
    {
      "cell_type": "markdown",
      "source": [
        "**Understanding the Results**\n",
        "\n",
        "Mean Squared Error (MSE):\n",
        "\n",
        "Your MSE has decreased to 174,289.59. This lower value means that, on average, the squared difference between the predicted and actual calorie values is reduced compared to your previous model (where the MSE was 283,186.89).\n",
        "A lower MSE generally indicates better model performance, as it reflects less error in your predictions.\n",
        "R² Score:\n",
        "\n",
        "An R² Score of 0.66 means that approximately 66% of the variance in calories burned can be explained by the model.\n",
        "This is a notable increase from the previous R² score of 0.44. A score closer to 1 indicates that the model is better at explaining the variance in the dependent variable (calories burned), which is a positive sign."
      ],
      "metadata": {
        "id": "r9GYvfUgwnb7"
      }
    },
    {
      "cell_type": "markdown",
      "source": [
        "**Conclusion**\n",
        "\n",
        "Overall Improvement: The Random Forest model provides a better fit for the data than the linear regression model, as indicated by both the lower MSE and higher R² score.\n",
        "\n",
        "Predictive Power: With 66% of the variance explained, the model can be considered moderately good. However, there is still room for further optimization if you wish to improve it even more."
      ],
      "metadata": {
        "id": "uGtpPIihwqTr"
      }
    },
    {
      "cell_type": "markdown",
      "source": [
        "To further improve your predictive model's performance, we can implement a series of enhancements, including feature engineering, hyperparameter tuning, cross-validation, and trying additional algorithms. Below are the steps we’ll take to optimize your Random Forest model:\n",
        "\n",
        "Step-by-Step Enhancements\n",
        "\n",
        "Step 15: Feature Engineering\n",
        "Objective: Enhance the model by adding more relevant features.\n",
        "\n",
        "Include Additional Features: Add features like Tracker_Distance, Logged_Activities_Distance, Sedentary_Minutes, and Very_Active_Distance."
      ],
      "metadata": {
        "id": "K6hBjXb8w-f1"
      }
    },
    {
      "cell_type": "code",
      "source": [
        "# Prepare your data with additional features\n",
        "X = data[['Steps', 'Very_Active_Minutes', 'Fairly_Active_Minutes',\n",
        "           'Total_Distance', 'Tracker_Distance', 'Logged_Activities_Distance',\n",
        "           'Sedentary_Minutes']]\n",
        "y = data['Calories_Burned']"
      ],
      "metadata": {
        "id": "Igt9D5suxGae"
      },
      "execution_count": 41,
      "outputs": []
    },
    {
      "cell_type": "markdown",
      "source": [
        "Step 2: Hyperparameter Tuning\n",
        "\n",
        "Objective: Optimize the Random Forest model by tuning hyperparameters.\n",
        "\n",
        "Use Grid Search for Hyperparameter Tuning: We'll use GridSearchCV to find the best hyperparameters for our model."
      ],
      "metadata": {
        "id": "uHNpgGZVxLRr"
      }
    },
    {
      "cell_type": "code",
      "source": [
        "from sklearn.model_selection import GridSearchCV\n",
        "\n",
        "# Define the model\n",
        "rf_model = RandomForestRegressor(random_state=42)\n",
        "\n",
        "# Define the parameter grid\n",
        "param_grid = {\n",
        "    'n_estimators': [50, 100, 200],\n",
        "    'max_depth': [None, 10, 20, 30],\n",
        "    'min_samples_split': [2, 5, 10],\n",
        "    'min_samples_leaf': [1, 2, 4]\n",
        "}\n",
        "\n",
        "# Setup the grid search\n",
        "grid_search = GridSearchCV(estimator=rf_model, param_grid=param_grid,\n",
        "                           cv=5, n_jobs=-1, verbose=2)\n",
        "\n",
        "# Fit the grid search\n",
        "grid_search.fit(X_train, y_train)\n",
        "\n",
        "# Get the best parameters\n",
        "best_params = grid_search.best_params_\n",
        "print(\"Best Parameters:\", best_params)"
      ],
      "metadata": {
        "colab": {
          "base_uri": "https://localhost:8080/"
        },
        "id": "Kh-NuOGFxP86",
        "outputId": "69e728b4-5742-4998-cce4-acbabbed1527"
      },
      "execution_count": 42,
      "outputs": [
        {
          "output_type": "stream",
          "name": "stdout",
          "text": [
            "Fitting 5 folds for each of 108 candidates, totalling 540 fits\n",
            "Best Parameters: {'max_depth': None, 'min_samples_leaf': 2, 'min_samples_split': 5, 'n_estimators': 200}\n"
          ]
        }
      ]
    },
    {
      "cell_type": "markdown",
      "source": [
        "**Understanding the Best Parameters**\n",
        "\n",
        "max_depth: None:\n",
        "\n",
        "This means that the trees in your forest can grow until all leaves are pure (or until all leaves contain fewer than the minimum samples required to split).\n",
        "Not limiting the depth may allow the model to capture complex patterns in the data.\n",
        "\n",
        "min_samples_leaf: 2:\n",
        "\n",
        "This indicates that each leaf must have at least 2 samples. This helps in preventing overfitting by ensuring that leaves have a minimum number of observations.\n",
        "\n",
        "min_samples_split: 5:\n",
        "\n",
        "This means that a node must have at least 5 samples to be split into two. This also acts as a form of regularization to avoid creating nodes that are too specific.\n",
        "\n",
        "n_estimators: 200:\n",
        "\n",
        "This indicates that the model will create 200 trees in the forest. A higher number of trees generally increases the model’s performance and stability, but also increases the computation time."
      ],
      "metadata": {
        "id": "yHXzKd6xyDYN"
      }
    },
    {
      "cell_type": "markdown",
      "source": [
        "Now that we have the best hyperparameters, let's proceed to evaluate the optimized Random Forest model again and see if the performance improves compared to your previous results.\n",
        "\n",
        "Step 16: Retrain the Model with Optimized Hyperparameters"
      ],
      "metadata": {
        "id": "ro7fOwY8yIax"
      }
    },
    {
      "cell_type": "code",
      "source": [
        "# Initialize the Random Forest with the best parameters\n",
        "optimized_rf_model = RandomForestRegressor(\n",
        "    max_depth=None,\n",
        "    min_samples_leaf=2,\n",
        "    min_samples_split=5,\n",
        "    n_estimators=200,\n",
        "    random_state=42\n",
        ")\n",
        "\n",
        "#  Train the model\n",
        "optimized_rf_model.fit(X_train, y_train)"
      ],
      "metadata": {
        "colab": {
          "base_uri": "https://localhost:8080/",
          "height": 98
        },
        "id": "QiynzYBMyH2e",
        "outputId": "62b1c4ab-7166-47ff-9cbf-0f86365430b0"
      },
      "execution_count": 44,
      "outputs": [
        {
          "output_type": "execute_result",
          "data": {
            "text/plain": [
              "RandomForestRegressor(min_samples_leaf=2, min_samples_split=5, n_estimators=200,\n",
              "                      random_state=42)"
            ],
            "text/html": [
              "<style>#sk-container-id-5 {\n",
              "  /* Definition of color scheme common for light and dark mode */\n",
              "  --sklearn-color-text: black;\n",
              "  --sklearn-color-line: gray;\n",
              "  /* Definition of color scheme for unfitted estimators */\n",
              "  --sklearn-color-unfitted-level-0: #fff5e6;\n",
              "  --sklearn-color-unfitted-level-1: #f6e4d2;\n",
              "  --sklearn-color-unfitted-level-2: #ffe0b3;\n",
              "  --sklearn-color-unfitted-level-3: chocolate;\n",
              "  /* Definition of color scheme for fitted estimators */\n",
              "  --sklearn-color-fitted-level-0: #f0f8ff;\n",
              "  --sklearn-color-fitted-level-1: #d4ebff;\n",
              "  --sklearn-color-fitted-level-2: #b3dbfd;\n",
              "  --sklearn-color-fitted-level-3: cornflowerblue;\n",
              "\n",
              "  /* Specific color for light theme */\n",
              "  --sklearn-color-text-on-default-background: var(--sg-text-color, var(--theme-code-foreground, var(--jp-content-font-color1, black)));\n",
              "  --sklearn-color-background: var(--sg-background-color, var(--theme-background, var(--jp-layout-color0, white)));\n",
              "  --sklearn-color-border-box: var(--sg-text-color, var(--theme-code-foreground, var(--jp-content-font-color1, black)));\n",
              "  --sklearn-color-icon: #696969;\n",
              "\n",
              "  @media (prefers-color-scheme: dark) {\n",
              "    /* Redefinition of color scheme for dark theme */\n",
              "    --sklearn-color-text-on-default-background: var(--sg-text-color, var(--theme-code-foreground, var(--jp-content-font-color1, white)));\n",
              "    --sklearn-color-background: var(--sg-background-color, var(--theme-background, var(--jp-layout-color0, #111)));\n",
              "    --sklearn-color-border-box: var(--sg-text-color, var(--theme-code-foreground, var(--jp-content-font-color1, white)));\n",
              "    --sklearn-color-icon: #878787;\n",
              "  }\n",
              "}\n",
              "\n",
              "#sk-container-id-5 {\n",
              "  color: var(--sklearn-color-text);\n",
              "}\n",
              "\n",
              "#sk-container-id-5 pre {\n",
              "  padding: 0;\n",
              "}\n",
              "\n",
              "#sk-container-id-5 input.sk-hidden--visually {\n",
              "  border: 0;\n",
              "  clip: rect(1px 1px 1px 1px);\n",
              "  clip: rect(1px, 1px, 1px, 1px);\n",
              "  height: 1px;\n",
              "  margin: -1px;\n",
              "  overflow: hidden;\n",
              "  padding: 0;\n",
              "  position: absolute;\n",
              "  width: 1px;\n",
              "}\n",
              "\n",
              "#sk-container-id-5 div.sk-dashed-wrapped {\n",
              "  border: 1px dashed var(--sklearn-color-line);\n",
              "  margin: 0 0.4em 0.5em 0.4em;\n",
              "  box-sizing: border-box;\n",
              "  padding-bottom: 0.4em;\n",
              "  background-color: var(--sklearn-color-background);\n",
              "}\n",
              "\n",
              "#sk-container-id-5 div.sk-container {\n",
              "  /* jupyter's `normalize.less` sets `[hidden] { display: none; }`\n",
              "     but bootstrap.min.css set `[hidden] { display: none !important; }`\n",
              "     so we also need the `!important` here to be able to override the\n",
              "     default hidden behavior on the sphinx rendered scikit-learn.org.\n",
              "     See: https://github.com/scikit-learn/scikit-learn/issues/21755 */\n",
              "  display: inline-block !important;\n",
              "  position: relative;\n",
              "}\n",
              "\n",
              "#sk-container-id-5 div.sk-text-repr-fallback {\n",
              "  display: none;\n",
              "}\n",
              "\n",
              "div.sk-parallel-item,\n",
              "div.sk-serial,\n",
              "div.sk-item {\n",
              "  /* draw centered vertical line to link estimators */\n",
              "  background-image: linear-gradient(var(--sklearn-color-text-on-default-background), var(--sklearn-color-text-on-default-background));\n",
              "  background-size: 2px 100%;\n",
              "  background-repeat: no-repeat;\n",
              "  background-position: center center;\n",
              "}\n",
              "\n",
              "/* Parallel-specific style estimator block */\n",
              "\n",
              "#sk-container-id-5 div.sk-parallel-item::after {\n",
              "  content: \"\";\n",
              "  width: 100%;\n",
              "  border-bottom: 2px solid var(--sklearn-color-text-on-default-background);\n",
              "  flex-grow: 1;\n",
              "}\n",
              "\n",
              "#sk-container-id-5 div.sk-parallel {\n",
              "  display: flex;\n",
              "  align-items: stretch;\n",
              "  justify-content: center;\n",
              "  background-color: var(--sklearn-color-background);\n",
              "  position: relative;\n",
              "}\n",
              "\n",
              "#sk-container-id-5 div.sk-parallel-item {\n",
              "  display: flex;\n",
              "  flex-direction: column;\n",
              "}\n",
              "\n",
              "#sk-container-id-5 div.sk-parallel-item:first-child::after {\n",
              "  align-self: flex-end;\n",
              "  width: 50%;\n",
              "}\n",
              "\n",
              "#sk-container-id-5 div.sk-parallel-item:last-child::after {\n",
              "  align-self: flex-start;\n",
              "  width: 50%;\n",
              "}\n",
              "\n",
              "#sk-container-id-5 div.sk-parallel-item:only-child::after {\n",
              "  width: 0;\n",
              "}\n",
              "\n",
              "/* Serial-specific style estimator block */\n",
              "\n",
              "#sk-container-id-5 div.sk-serial {\n",
              "  display: flex;\n",
              "  flex-direction: column;\n",
              "  align-items: center;\n",
              "  background-color: var(--sklearn-color-background);\n",
              "  padding-right: 1em;\n",
              "  padding-left: 1em;\n",
              "}\n",
              "\n",
              "\n",
              "/* Toggleable style: style used for estimator/Pipeline/ColumnTransformer box that is\n",
              "clickable and can be expanded/collapsed.\n",
              "- Pipeline and ColumnTransformer use this feature and define the default style\n",
              "- Estimators will overwrite some part of the style using the `sk-estimator` class\n",
              "*/\n",
              "\n",
              "/* Pipeline and ColumnTransformer style (default) */\n",
              "\n",
              "#sk-container-id-5 div.sk-toggleable {\n",
              "  /* Default theme specific background. It is overwritten whether we have a\n",
              "  specific estimator or a Pipeline/ColumnTransformer */\n",
              "  background-color: var(--sklearn-color-background);\n",
              "}\n",
              "\n",
              "/* Toggleable label */\n",
              "#sk-container-id-5 label.sk-toggleable__label {\n",
              "  cursor: pointer;\n",
              "  display: block;\n",
              "  width: 100%;\n",
              "  margin-bottom: 0;\n",
              "  padding: 0.5em;\n",
              "  box-sizing: border-box;\n",
              "  text-align: center;\n",
              "}\n",
              "\n",
              "#sk-container-id-5 label.sk-toggleable__label-arrow:before {\n",
              "  /* Arrow on the left of the label */\n",
              "  content: \"▸\";\n",
              "  float: left;\n",
              "  margin-right: 0.25em;\n",
              "  color: var(--sklearn-color-icon);\n",
              "}\n",
              "\n",
              "#sk-container-id-5 label.sk-toggleable__label-arrow:hover:before {\n",
              "  color: var(--sklearn-color-text);\n",
              "}\n",
              "\n",
              "/* Toggleable content - dropdown */\n",
              "\n",
              "#sk-container-id-5 div.sk-toggleable__content {\n",
              "  max-height: 0;\n",
              "  max-width: 0;\n",
              "  overflow: hidden;\n",
              "  text-align: left;\n",
              "  /* unfitted */\n",
              "  background-color: var(--sklearn-color-unfitted-level-0);\n",
              "}\n",
              "\n",
              "#sk-container-id-5 div.sk-toggleable__content.fitted {\n",
              "  /* fitted */\n",
              "  background-color: var(--sklearn-color-fitted-level-0);\n",
              "}\n",
              "\n",
              "#sk-container-id-5 div.sk-toggleable__content pre {\n",
              "  margin: 0.2em;\n",
              "  border-radius: 0.25em;\n",
              "  color: var(--sklearn-color-text);\n",
              "  /* unfitted */\n",
              "  background-color: var(--sklearn-color-unfitted-level-0);\n",
              "}\n",
              "\n",
              "#sk-container-id-5 div.sk-toggleable__content.fitted pre {\n",
              "  /* unfitted */\n",
              "  background-color: var(--sklearn-color-fitted-level-0);\n",
              "}\n",
              "\n",
              "#sk-container-id-5 input.sk-toggleable__control:checked~div.sk-toggleable__content {\n",
              "  /* Expand drop-down */\n",
              "  max-height: 200px;\n",
              "  max-width: 100%;\n",
              "  overflow: auto;\n",
              "}\n",
              "\n",
              "#sk-container-id-5 input.sk-toggleable__control:checked~label.sk-toggleable__label-arrow:before {\n",
              "  content: \"▾\";\n",
              "}\n",
              "\n",
              "/* Pipeline/ColumnTransformer-specific style */\n",
              "\n",
              "#sk-container-id-5 div.sk-label input.sk-toggleable__control:checked~label.sk-toggleable__label {\n",
              "  color: var(--sklearn-color-text);\n",
              "  background-color: var(--sklearn-color-unfitted-level-2);\n",
              "}\n",
              "\n",
              "#sk-container-id-5 div.sk-label.fitted input.sk-toggleable__control:checked~label.sk-toggleable__label {\n",
              "  background-color: var(--sklearn-color-fitted-level-2);\n",
              "}\n",
              "\n",
              "/* Estimator-specific style */\n",
              "\n",
              "/* Colorize estimator box */\n",
              "#sk-container-id-5 div.sk-estimator input.sk-toggleable__control:checked~label.sk-toggleable__label {\n",
              "  /* unfitted */\n",
              "  background-color: var(--sklearn-color-unfitted-level-2);\n",
              "}\n",
              "\n",
              "#sk-container-id-5 div.sk-estimator.fitted input.sk-toggleable__control:checked~label.sk-toggleable__label {\n",
              "  /* fitted */\n",
              "  background-color: var(--sklearn-color-fitted-level-2);\n",
              "}\n",
              "\n",
              "#sk-container-id-5 div.sk-label label.sk-toggleable__label,\n",
              "#sk-container-id-5 div.sk-label label {\n",
              "  /* The background is the default theme color */\n",
              "  color: var(--sklearn-color-text-on-default-background);\n",
              "}\n",
              "\n",
              "/* On hover, darken the color of the background */\n",
              "#sk-container-id-5 div.sk-label:hover label.sk-toggleable__label {\n",
              "  color: var(--sklearn-color-text);\n",
              "  background-color: var(--sklearn-color-unfitted-level-2);\n",
              "}\n",
              "\n",
              "/* Label box, darken color on hover, fitted */\n",
              "#sk-container-id-5 div.sk-label.fitted:hover label.sk-toggleable__label.fitted {\n",
              "  color: var(--sklearn-color-text);\n",
              "  background-color: var(--sklearn-color-fitted-level-2);\n",
              "}\n",
              "\n",
              "/* Estimator label */\n",
              "\n",
              "#sk-container-id-5 div.sk-label label {\n",
              "  font-family: monospace;\n",
              "  font-weight: bold;\n",
              "  display: inline-block;\n",
              "  line-height: 1.2em;\n",
              "}\n",
              "\n",
              "#sk-container-id-5 div.sk-label-container {\n",
              "  text-align: center;\n",
              "}\n",
              "\n",
              "/* Estimator-specific */\n",
              "#sk-container-id-5 div.sk-estimator {\n",
              "  font-family: monospace;\n",
              "  border: 1px dotted var(--sklearn-color-border-box);\n",
              "  border-radius: 0.25em;\n",
              "  box-sizing: border-box;\n",
              "  margin-bottom: 0.5em;\n",
              "  /* unfitted */\n",
              "  background-color: var(--sklearn-color-unfitted-level-0);\n",
              "}\n",
              "\n",
              "#sk-container-id-5 div.sk-estimator.fitted {\n",
              "  /* fitted */\n",
              "  background-color: var(--sklearn-color-fitted-level-0);\n",
              "}\n",
              "\n",
              "/* on hover */\n",
              "#sk-container-id-5 div.sk-estimator:hover {\n",
              "  /* unfitted */\n",
              "  background-color: var(--sklearn-color-unfitted-level-2);\n",
              "}\n",
              "\n",
              "#sk-container-id-5 div.sk-estimator.fitted:hover {\n",
              "  /* fitted */\n",
              "  background-color: var(--sklearn-color-fitted-level-2);\n",
              "}\n",
              "\n",
              "/* Specification for estimator info (e.g. \"i\" and \"?\") */\n",
              "\n",
              "/* Common style for \"i\" and \"?\" */\n",
              "\n",
              ".sk-estimator-doc-link,\n",
              "a:link.sk-estimator-doc-link,\n",
              "a:visited.sk-estimator-doc-link {\n",
              "  float: right;\n",
              "  font-size: smaller;\n",
              "  line-height: 1em;\n",
              "  font-family: monospace;\n",
              "  background-color: var(--sklearn-color-background);\n",
              "  border-radius: 1em;\n",
              "  height: 1em;\n",
              "  width: 1em;\n",
              "  text-decoration: none !important;\n",
              "  margin-left: 1ex;\n",
              "  /* unfitted */\n",
              "  border: var(--sklearn-color-unfitted-level-1) 1pt solid;\n",
              "  color: var(--sklearn-color-unfitted-level-1);\n",
              "}\n",
              "\n",
              ".sk-estimator-doc-link.fitted,\n",
              "a:link.sk-estimator-doc-link.fitted,\n",
              "a:visited.sk-estimator-doc-link.fitted {\n",
              "  /* fitted */\n",
              "  border: var(--sklearn-color-fitted-level-1) 1pt solid;\n",
              "  color: var(--sklearn-color-fitted-level-1);\n",
              "}\n",
              "\n",
              "/* On hover */\n",
              "div.sk-estimator:hover .sk-estimator-doc-link:hover,\n",
              ".sk-estimator-doc-link:hover,\n",
              "div.sk-label-container:hover .sk-estimator-doc-link:hover,\n",
              ".sk-estimator-doc-link:hover {\n",
              "  /* unfitted */\n",
              "  background-color: var(--sklearn-color-unfitted-level-3);\n",
              "  color: var(--sklearn-color-background);\n",
              "  text-decoration: none;\n",
              "}\n",
              "\n",
              "div.sk-estimator.fitted:hover .sk-estimator-doc-link.fitted:hover,\n",
              ".sk-estimator-doc-link.fitted:hover,\n",
              "div.sk-label-container:hover .sk-estimator-doc-link.fitted:hover,\n",
              ".sk-estimator-doc-link.fitted:hover {\n",
              "  /* fitted */\n",
              "  background-color: var(--sklearn-color-fitted-level-3);\n",
              "  color: var(--sklearn-color-background);\n",
              "  text-decoration: none;\n",
              "}\n",
              "\n",
              "/* Span, style for the box shown on hovering the info icon */\n",
              ".sk-estimator-doc-link span {\n",
              "  display: none;\n",
              "  z-index: 9999;\n",
              "  position: relative;\n",
              "  font-weight: normal;\n",
              "  right: .2ex;\n",
              "  padding: .5ex;\n",
              "  margin: .5ex;\n",
              "  width: min-content;\n",
              "  min-width: 20ex;\n",
              "  max-width: 50ex;\n",
              "  color: var(--sklearn-color-text);\n",
              "  box-shadow: 2pt 2pt 4pt #999;\n",
              "  /* unfitted */\n",
              "  background: var(--sklearn-color-unfitted-level-0);\n",
              "  border: .5pt solid var(--sklearn-color-unfitted-level-3);\n",
              "}\n",
              "\n",
              ".sk-estimator-doc-link.fitted span {\n",
              "  /* fitted */\n",
              "  background: var(--sklearn-color-fitted-level-0);\n",
              "  border: var(--sklearn-color-fitted-level-3);\n",
              "}\n",
              "\n",
              ".sk-estimator-doc-link:hover span {\n",
              "  display: block;\n",
              "}\n",
              "\n",
              "/* \"?\"-specific style due to the `<a>` HTML tag */\n",
              "\n",
              "#sk-container-id-5 a.estimator_doc_link {\n",
              "  float: right;\n",
              "  font-size: 1rem;\n",
              "  line-height: 1em;\n",
              "  font-family: monospace;\n",
              "  background-color: var(--sklearn-color-background);\n",
              "  border-radius: 1rem;\n",
              "  height: 1rem;\n",
              "  width: 1rem;\n",
              "  text-decoration: none;\n",
              "  /* unfitted */\n",
              "  color: var(--sklearn-color-unfitted-level-1);\n",
              "  border: var(--sklearn-color-unfitted-level-1) 1pt solid;\n",
              "}\n",
              "\n",
              "#sk-container-id-5 a.estimator_doc_link.fitted {\n",
              "  /* fitted */\n",
              "  border: var(--sklearn-color-fitted-level-1) 1pt solid;\n",
              "  color: var(--sklearn-color-fitted-level-1);\n",
              "}\n",
              "\n",
              "/* On hover */\n",
              "#sk-container-id-5 a.estimator_doc_link:hover {\n",
              "  /* unfitted */\n",
              "  background-color: var(--sklearn-color-unfitted-level-3);\n",
              "  color: var(--sklearn-color-background);\n",
              "  text-decoration: none;\n",
              "}\n",
              "\n",
              "#sk-container-id-5 a.estimator_doc_link.fitted:hover {\n",
              "  /* fitted */\n",
              "  background-color: var(--sklearn-color-fitted-level-3);\n",
              "}\n",
              "</style><div id=\"sk-container-id-5\" class=\"sk-top-container\"><div class=\"sk-text-repr-fallback\"><pre>RandomForestRegressor(min_samples_leaf=2, min_samples_split=5, n_estimators=200,\n",
              "                      random_state=42)</pre><b>In a Jupyter environment, please rerun this cell to show the HTML representation or trust the notebook. <br />On GitHub, the HTML representation is unable to render, please try loading this page with nbviewer.org.</b></div><div class=\"sk-container\" hidden><div class=\"sk-item\"><div class=\"sk-estimator fitted sk-toggleable\"><input class=\"sk-toggleable__control sk-hidden--visually\" id=\"sk-estimator-id-5\" type=\"checkbox\" checked><label for=\"sk-estimator-id-5\" class=\"sk-toggleable__label fitted sk-toggleable__label-arrow fitted\">&nbsp;&nbsp;RandomForestRegressor<a class=\"sk-estimator-doc-link fitted\" rel=\"noreferrer\" target=\"_blank\" href=\"https://scikit-learn.org/1.5/modules/generated/sklearn.ensemble.RandomForestRegressor.html\">?<span>Documentation for RandomForestRegressor</span></a><span class=\"sk-estimator-doc-link fitted\">i<span>Fitted</span></span></label><div class=\"sk-toggleable__content fitted\"><pre>RandomForestRegressor(min_samples_leaf=2, min_samples_split=5, n_estimators=200,\n",
              "                      random_state=42)</pre></div> </div></div></div></div>"
            ]
          },
          "metadata": {},
          "execution_count": 44
        }
      ]
    },
    {
      "cell_type": "code",
      "source": [
        "# Make predictions\n",
        "y_pred_optimized = optimized_rf_model.predict(X_test)\n",
        "\n",
        "# Evaluate the model\n",
        "mse_optimized = mean_squared_error(y_test, y_pred_optimized)\n",
        "r2_optimized = r2_score(y_test, y_pred_optimized)\n",
        "\n",
        "print(\"Mean Squared Error (Optimized Random Forest):\", mse_optimized)\n",
        "print(\"R^2 Score (Optimized Random Forest):\", r2_optimized)"
      ],
      "metadata": {
        "colab": {
          "base_uri": "https://localhost:8080/"
        },
        "id": "akLYV3YRyf-q",
        "outputId": "4f5b556d-d468-4978-9c5e-e7bfb0f4b8c6"
      },
      "execution_count": 45,
      "outputs": [
        {
          "output_type": "stream",
          "name": "stdout",
          "text": [
            "Mean Squared Error (Optimized Random Forest): 174919.33780634575\n",
            "R^2 Score (Optimized Random Forest): 0.6544770706954355\n"
          ]
        }
      ]
    },
    {
      "cell_type": "markdown",
      "source": [
        "Interpretation\n",
        "\n",
        "The results suggest that while tuning the hyperparameters can generally improve performance, it is also possible that the chosen hyperparameters in this case might not lead to a better fit for the data.\n",
        "\n",
        "The stability of the R² score around 0.65 indicates that the model has a good understanding of the relationship between the predictors and the response variable but may be limited by the features provided or inherent variability in the data.\n",
        "\n",
        "\n",
        "**Next Steps to Further Improve the Model**\n",
        "\n",
        "Try Different Algorithms:\n",
        "\n",
        "Consider using other algorithms like Gradient Boosting or XGBoost, which can sometimes capture complex relationships better than Random Forest.\n"
      ],
      "metadata": {
        "id": "T895NL1pyw8x"
      }
    },
    {
      "cell_type": "markdown",
      "source": [
        "**Using Gradient Boosting**"
      ],
      "metadata": {
        "id": "wCMNM-jDy3Eh"
      }
    },
    {
      "cell_type": "code",
      "source": [
        "from sklearn.ensemble import GradientBoostingRegressor\n",
        "\n",
        "# Prepare your data with additional features if you haven't done so\n",
        "X = data[['Steps', 'Very_Active_Minutes', 'Fairly_Active_Minutes',\n",
        "           'Total_Distance', 'Tracker_Distance', 'Logged_Activities_Distance',\n",
        "           'Sedentary_Minutes']]\n",
        "y = data['Calories_Burned']\n",
        "\n",
        "# Split the data into training and testing sets\n",
        "X_train, X_test, y_train, y_test = train_test_split(X, y, test_size=0.2, random_state=42)\n",
        "\n",
        "# Initialize Gradient Boosting Regressor\n",
        "gb_model = GradientBoostingRegressor(n_estimators=200, random_state=42)\n",
        "\n",
        "# Train the model\n",
        "gb_model.fit(X_train, y_train)\n",
        "\n",
        "# Make predictions\n",
        "y_pred_gb = gb_model.predict(X_test)\n",
        "\n",
        "# Evaluate the model\n",
        "print(\"Mean Squared Error (Gradient Boosting):\", mean_squared_error(y_test, y_pred_gb))\n",
        "print(\"R^2 Score (Gradient Boosting):\", r2_score(y_test, y_pred_gb))"
      ],
      "metadata": {
        "colab": {
          "base_uri": "https://localhost:8080/"
        },
        "id": "RNYYZVgBykGS",
        "outputId": "0538def5-7f0d-4c40-db1e-d28b768c2c77"
      },
      "execution_count": 46,
      "outputs": [
        {
          "output_type": "stream",
          "name": "stdout",
          "text": [
            "Mean Squared Error (Gradient Boosting): 174292.46008939136\n",
            "R^2 Score (Gradient Boosting): 0.6557153593134593\n"
          ]
        }
      ]
    },
    {
      "cell_type": "markdown",
      "source": [
        "\n",
        "Performance Comparison:\n",
        "\n",
        " The Gradient Boosting model did not show a significant improvement over Random Forest in terms of MSE or R² Score. Both models seem to be performing similarly.\n",
        "\n",
        "Model Stability:\n",
        "\n",
        "The close performance metrics suggest that both models have a reasonable understanding of the relationships in the data, but they might also be limited by the features provided or inherent noise in the dataset."
      ],
      "metadata": {
        "id": "nXJGSSDHzHea"
      }
    },
    {
      "cell_type": "markdown",
      "source": [
        "**Next Steps to Further Improve the Model**\n",
        "\n",
        "Ensemble Models:\n",
        "\n",
        "Consider creating an ensemble model that combines the predictions from both Random Forest and Gradient Boosting to leverage the strengths of both algorithms. You can do this by averaging the predictions or using a more sophisticated stacking method."
      ],
      "metadata": {
        "id": "AY0YaTd2zNcI"
      }
    },
    {
      "cell_type": "markdown",
      "source": [
        "Ensure Hyperparameter Tuning is Done: Make sure you run the Grid Search for the Gradient Boosting model to define best_params_gb. Here's the code you should run first:"
      ],
      "metadata": {
        "id": "63kaI60wzqUD"
      }
    },
    {
      "cell_type": "code",
      "source": [
        "from sklearn.model_selection import GridSearchCV\n",
        "from sklearn.ensemble import GradientBoostingRegressor\n",
        "\n",
        "# Define the model\n",
        "gb_model = GradientBoostingRegressor(random_state=42)\n",
        "\n",
        "# Define the parameter grid\n",
        "param_grid = {\n",
        "    'n_estimators': [100, 200],\n",
        "    'learning_rate': [0.01, 0.1, 0.2],\n",
        "    'max_depth': [3, 5, 7],\n",
        "    'min_samples_split': [2, 5]\n",
        "}\n",
        "\n",
        "# Setup the grid search\n",
        "grid_search_gb = GridSearchCV(estimator=gb_model, param_grid=param_grid,\n",
        "                               cv=5, n_jobs=-1, verbose=2)\n",
        "\n",
        "# Fit the grid search\n",
        "grid_search_gb.fit(X_train, y_train)\n",
        "\n",
        "# Get the best parameters\n",
        "best_params_gb = grid_search_gb.best_params_\n",
        "print(\"Best Parameters for Gradient Boosting:\", best_params_gb)"
      ],
      "metadata": {
        "colab": {
          "base_uri": "https://localhost:8080/"
        },
        "id": "1GvaMm8tzoDA",
        "outputId": "5081ff8f-024a-4449-bc3b-e72a9b7da080"
      },
      "execution_count": 48,
      "outputs": [
        {
          "output_type": "stream",
          "name": "stdout",
          "text": [
            "Fitting 5 folds for each of 36 candidates, totalling 180 fits\n",
            "Best Parameters for Gradient Boosting: {'learning_rate': 0.1, 'max_depth': 3, 'min_samples_split': 2, 'n_estimators': 200}\n"
          ]
        }
      ]
    },
    {
      "cell_type": "markdown",
      "source": [
        "Train the Optimized Gradient Boosting Model"
      ],
      "metadata": {
        "id": "NMW6jogb0XS6"
      }
    },
    {
      "cell_type": "code",
      "source": [
        "# Initialize Gradient Boosting with best parameters\n",
        "gb_model_optimized = GradientBoostingRegressor(\n",
        "    learning_rate=0.1,\n",
        "    max_depth=3,\n",
        "    min_samples_split=2,\n",
        "    n_estimators=200,\n",
        "    random_state=42\n",
        ")\n",
        "\n",
        "# Train the optimized model\n",
        "gb_model_optimized.fit(X_train, y_train)\n",
        "\n",
        "# Make predictions\n",
        "y_pred_optimized_gb = gb_model_optimized.predict(X_test)\n",
        "\n",
        "# Evaluate the model\n",
        "gb_mse = mean_squared_error(y_test, y_pred_optimized_gb)\n",
        "gb_r2 = r2_score(y_test, y_pred_optimized_gb)\n",
        "\n",
        "print(\"Mean Squared Error (Optimized Gradient Boosting):\", gb_mse)\n",
        "print(\"R^2 Score (Optimized Gradient Boosting):\", gb_r2)"
      ],
      "metadata": {
        "colab": {
          "base_uri": "https://localhost:8080/"
        },
        "id": "5Rko8e8J0YTw",
        "outputId": "af4a8acb-2bb7-4fa7-d09e-0f68f06c90ee"
      },
      "execution_count": 49,
      "outputs": [
        {
          "output_type": "stream",
          "name": "stdout",
          "text": [
            "Mean Squared Error (Optimized Gradient Boosting): 174292.46008939136\n",
            "R^2 Score (Optimized Gradient Boosting): 0.6557153593134593\n"
          ]
        }
      ]
    },
    {
      "cell_type": "markdown",
      "source": [
        " **Ensemble Predictions**\n",
        "Next, let's create an ensemble model that combines the predictions from both the Random Forest and the optimized Gradient Boosting models.\n",
        "\n",
        "Make Predictions from Both Models:"
      ],
      "metadata": {
        "id": "nJudxoXo0fQ1"
      }
    },
    {
      "cell_type": "code",
      "source": [
        "# Make predictions with both models\n",
        "rf_predictions = optimized_rf_model.predict(X_test)\n",
        "gb_predictions = gb_model_optimized.predict(X_test)\n",
        "\n",
        "# Average the predictions for ensemble model\n",
        "ensemble_predictions = (rf_predictions + gb_predictions) / 2\n",
        "\n",
        "# Evaluate the ensemble model\n",
        "ensemble_mse = mean_squared_error(y_test, ensemble_predictions)\n",
        "ensemble_r2 = r2_score(y_test, ensemble_predictions)\n",
        "\n",
        "print(\"Mean Squared Error (Ensemble Model):\", ensemble_mse)\n",
        "print(\"R^2 Score (Ensemble Model):\", ensemble_r2)"
      ],
      "metadata": {
        "colab": {
          "base_uri": "https://localhost:8080/"
        },
        "id": "zCdBNKyX0hWo",
        "outputId": "c2b5d587-4e2d-41dd-c9a9-55b53b269e6c"
      },
      "execution_count": 50,
      "outputs": [
        {
          "output_type": "stream",
          "name": "stdout",
          "text": [
            "Mean Squared Error (Ensemble Model): 157860.05568210207\n",
            "R^2 Score (Ensemble Model): 0.6881747350321675\n"
          ]
        }
      ]
    },
    {
      "cell_type": "markdown",
      "source": [
        "Example of Stacking Regressor"
      ],
      "metadata": {
        "id": "5E-KgNdz0zDx"
      }
    },
    {
      "cell_type": "code",
      "source": [
        "from sklearn.ensemble import StackingRegressor\n",
        "\n",
        "# Define base models\n",
        "base_models = [\n",
        "    ('rf', RandomForestRegressor(n_estimators=100, random_state=42)),\n",
        "    ('gb', GradientBoostingRegressor(learning_rate=0.1, max_depth=3,\n",
        "                                      min_samples_split=2, n_estimators=200,\n",
        "                                      random_state=42))\n",
        "]\n",
        "\n",
        "# Define the meta-model\n",
        "meta_model = RandomForestRegressor(n_estimators=50, random_state=42)\n",
        "\n",
        "# Create the Stacking Regressor\n",
        "stacking_model = StackingRegressor(estimators=base_models, final_estimator=meta_model, cv=5)\n",
        "\n",
        "# Train the stacking model\n",
        "stacking_model.fit(X_train, y_train)\n",
        "\n",
        "# Make predictions with the stacking model\n",
        "y_pred_stacking = stacking_model.predict(X_test)\n",
        "\n",
        "# Evaluate the stacking model\n",
        "stacking_mse = mean_squared_error(y_test, y_pred_stacking)\n",
        "stacking_r2 = r2_score(y_test, y_pred_stacking)\n",
        "\n",
        "print(\"Mean Squared Error (Stacking Model):\", stacking_mse)\n",
        "print(\"R^2 Score (Stacking Model):\", stacking_r2)"
      ],
      "metadata": {
        "colab": {
          "base_uri": "https://localhost:8080/"
        },
        "id": "D3yvZ31R0zpg",
        "outputId": "89834920-2b75-42b7-d9f3-014144433972"
      },
      "execution_count": 51,
      "outputs": [
        {
          "output_type": "stream",
          "name": "stdout",
          "text": [
            "Mean Squared Error (Stacking Model): 181707.44643569508\n",
            "R^2 Score (Stacking Model): 0.6410683349463497\n"
          ]
        }
      ]
    },
    {
      "cell_type": "markdown",
      "source": [
        " Let's implement XGBoost for your predictive modeling task. XGBoost (Extreme Gradient Boosting) is a powerful ensemble learning algorithm known for its efficiency and performance, especially in regression and classification tasks."
      ],
      "metadata": {
        "id": "XyUmIDlH1oCP"
      }
    },
    {
      "cell_type": "code",
      "source": [
        "!pip install xgboost"
      ],
      "metadata": {
        "colab": {
          "base_uri": "https://localhost:8080/"
        },
        "id": "7odny__A1IgZ",
        "outputId": "388da81a-58cb-476d-c91a-4cb5c01e561f"
      },
      "execution_count": 52,
      "outputs": [
        {
          "output_type": "stream",
          "name": "stdout",
          "text": [
            "Requirement already satisfied: xgboost in /usr/local/lib/python3.10/dist-packages (2.1.1)\n",
            "Requirement already satisfied: numpy in /usr/local/lib/python3.10/dist-packages (from xgboost) (1.26.4)\n",
            "Requirement already satisfied: nvidia-nccl-cu12 in /usr/local/lib/python3.10/dist-packages (from xgboost) (2.23.4)\n",
            "Requirement already satisfied: scipy in /usr/local/lib/python3.10/dist-packages (from xgboost) (1.13.1)\n"
          ]
        }
      ]
    },
    {
      "cell_type": "code",
      "source": [
        "# Step 1: Install XGBoost if not already installed\n",
        "!pip install xgboost\n",
        "\n",
        "# Step 2: Import necessary libraries\n",
        "import pandas as pd\n",
        "import seaborn as sns\n",
        "import matplotlib.pyplot as plt\n",
        "from sklearn.model_selection import train_test_split\n",
        "from sklearn.metrics import mean_squared_error, r2_score\n",
        "from xgboost import XGBRegressor\n",
        "\n",
        "# Step 3: Load the Daily Activity dataset\n",
        "data = pd.read_csv('/content/Daily_Activity_Project /daily_activity.csv')\n",
        "\n",
        "# Step 4: Prepare your data with additional features\n",
        "X = data[['Steps', 'Very_Active_Minutes', 'Fairly_Active_Minutes',\n",
        "           'Total_Distance', 'Tracker_Distance', 'Logged_Activities_Distance',\n",
        "           'Sedentary_Minutes']]\n",
        "y = data['Calories_Burned']\n",
        "\n",
        "# Step 5: Split the data into training and testing sets\n",
        "X_train, X_test, y_train, y_test = train_test_split(X, y, test_size=0.2, random_state=42)\n",
        "\n",
        "# Step 6: Initialize the XGBoost Regressor\n",
        "xgb_model = XGBRegressor(n_estimators=200, learning_rate=0.1, max_depth=3, random_state=42)\n",
        "\n",
        "# Step 7: Train the model\n",
        "xgb_model.fit(X_train, y_train)\n",
        "\n",
        "# Step 8: Make predictions\n",
        "y_pred_xgb = xgb_model.predict(X_test)\n",
        "\n",
        "# Step 9: Evaluate the model\n",
        "xgb_mse = mean_squared_error(y_test, y_pred_xgb)\n",
        "xgb_r2 = r2_score(y_test, y_pred_xgb)\n",
        "\n",
        "print(\"Mean Squared Error (XGBoost):\", xgb_mse)\n",
        "print(\"R^2 Score (XGBoost):\", xgb_r2)"
      ],
      "metadata": {
        "colab": {
          "base_uri": "https://localhost:8080/"
        },
        "id": "CCQhzfKb1JGZ",
        "outputId": "20538553-ec2f-4d2b-f5a7-4a8d2889b785"
      },
      "execution_count": 54,
      "outputs": [
        {
          "output_type": "stream",
          "name": "stdout",
          "text": [
            "Requirement already satisfied: xgboost in /usr/local/lib/python3.10/dist-packages (2.1.1)\n",
            "Requirement already satisfied: numpy in /usr/local/lib/python3.10/dist-packages (from xgboost) (1.26.4)\n",
            "Requirement already satisfied: nvidia-nccl-cu12 in /usr/local/lib/python3.10/dist-packages (from xgboost) (2.23.4)\n",
            "Requirement already satisfied: scipy in /usr/local/lib/python3.10/dist-packages (from xgboost) (1.13.1)\n",
            "Mean Squared Error (XGBoost): 169139.45789336093\n",
            "R^2 Score (XGBoost): 0.6658942103385925\n"
          ]
        }
      ]
    },
    {
      "cell_type": "markdown",
      "source": [
        "**Conclusion**:\n",
        "\n",
        "The Ensemble Model outperforms all other models with the lowest Mean Squared Error (157,860.06) and the highest R² Score (0.69). This indicates that the ensemble method captures the underlying data patterns more effectively, resulting in better predictive accuracy."
      ],
      "metadata": {
        "id": "r9apT5Qw3vpX"
      }
    },
    {
      "cell_type": "markdown",
      "source": [
        "\n",
        "In conclusion, analyzing the Daily Activity dataset provides valuable insights into daily physical activity patterns and enables the creation of a predictive model for calories burned. The evaluation metrics, particularly the low Mean Squared Error (MSE) and high R² score of the Ensemble Model, indicate that the model effectively captures the relationships between physical activity and caloric expenditure. This accuracy allows for reliable predictions, empowering users to make informed decisions about their fitness routines.\n",
        "\n",
        "By identifying key activities that contribute to calorie burn and providing personalized recommendations, the analysis supports behavior change strategies that can help individuals achieve their fitness goals. Overall, the integration of robust predictive modeling with actionable insights from the data enhances the potential for users to optimize their daily activities and improve their overall health and wellness outcomes."
      ],
      "metadata": {
        "id": "AZBTJhvu30Pt"
      }
    },
    {
      "cell_type": "markdown",
      "source": [
        "In my personal weight loss journey over the last three months, I successfully lost 9 kg, and the insights gained from analyzing the Daily Activity dataset have been invaluable in guiding my progress. By examining daily physical activity patterns and developing a predictive model for calories burned, I’ve been able to make more informed decisions about my fitness routine.\n",
        "\n",
        "The analysis identified key activities that contribute significantly to calorie burn, such as walking and high-intensity workouts. Recognizing the importance of these activities, I incorporated more walking into my daily routine, aiming to increase my step count and engage in workouts that elevate my heart rate. This strategic adjustment has allowed me to maximize my caloric expenditure and stay motivated in my weight loss efforts.\n",
        "\n",
        "Utilizing the predictive model, I can estimate my daily caloric burn based on my activity levels. This capability enables me to set achievable goals for each day, ensuring that I remain on track to meet my weight loss targets. For example, if the model suggests that increasing my daily activity by a certain percentage could lead to significant calorie burn, I’m more likely to commit to those additional steps or workouts.\n",
        "\n",
        "Moreover, the insights derived from this analysis have informed my behavior change strategies. Understanding the relationship between my daily activities and caloric burn has encouraged me to embrace a more active lifestyle. I now maintain a fitness journal where I log my daily activities, calories burned, and any changes in my weight. This approach not only reinforces my commitment to a healthier lifestyle but also allows me to monitor my progress over time.\n",
        "\n",
        "As I continue on this journey, I will leverage the insights from the Daily Activity analysis to optimize my daily activities and further improve my health outcomes. The combination of data-driven insights and personal determination has empowered me to stay focused on my fitness goals, making this project a significant part of my transformation.\n",
        "\n"
      ],
      "metadata": {
        "id": "PlR6KiqB7tYh"
      }
    }
  ]
}